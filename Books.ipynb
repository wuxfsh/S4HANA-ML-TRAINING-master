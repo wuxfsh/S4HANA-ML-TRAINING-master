{
 "cells": [
  {
   "cell_type": "markdown",
   "metadata": {},
   "source": [
    "## Books\n",
    "### Hands-On Machine Learning with Scikit Learn & Tensorflow\n",
    "\n",
    "One of the best **introductory** books to machine learning. If you prefer books over online tutorials and YouTube videos, then this book is worth buying."
   ]
  },
  {
   "cell_type": "markdown",
   "metadata": {},
   "source": [
    "## Recommended academic books (free online)\n",
    "\n",
    "\n",
    "\n",
    "Free recommended academic books (all free):\n",
    "\n",
    "### The Elements of Statistical Learning (ESL)\n",
    "https://web.stanford.edu/~hastie/ElemStatLearn/\n",
    "\n",
    "This is a popular textbook covering the \"classical\" ML algorithms. If you want to understand the difference between, say, Ridge and Lasso regularization, than this is the book you should read.\n",
    "\n",
    "### An Introduction to Statistical Learning \n",
    "https://www-bcf.usc.edu/~gareth/ISL/\n",
    "\n",
    "Similar content, but more introductory than ESL. Contains R code. The book is good even if you skip the programming sections. Read either this book or ESL (but not both).\n",
    "\n",
    "\n",
    "### Deep Learning\n",
    "https://www.deeplearningbook.org/\n",
    "\n",
    "You $must$ read this book if you are interested in Deep Learning. It's a short book, but it may take you some time if you don't have a mathemetical background.  \n",
    "\n",
    "### Reinforcement Learning: An Introduction\n",
    "https://web.stanford.edu/class/psych209/Readings/SuttonBartoIPRLBook2ndEd.pdf\n",
    "\n",
    "We discussed why reinforcement learning may play an important role in SAP's ML strategy (in particular when it comes to automation). This is the standard introductory book to the topic.\n",
    "\n"
   ]
  },
  {
   "cell_type": "markdown",
   "metadata": {},
   "source": [
    "#### Worth Reading\n",
    "\n",
    "https://eng.lyft.com/from-shallow-to-deep-learning-in-fraud-9dafcbcef743\n",
    " \n",
    "https://codewords.recurse.com/issues/five/why-do-neural-networks-think-a-panda-is-a-vulture"
   ]
  },
  {
   "cell_type": "code",
   "execution_count": null,
   "metadata": {},
   "outputs": [],
   "source": []
  }
 ],
 "metadata": {
  "kernelspec": {
   "display_name": "Python 3",
   "language": "python",
   "name": "python3"
  },
  "language_info": {
   "codemirror_mode": {
    "name": "ipython",
    "version": 3
   },
   "file_extension": ".py",
   "mimetype": "text/x-python",
   "name": "python",
   "nbconvert_exporter": "python",
   "pygments_lexer": "ipython3",
   "version": "3.6.6"
  }
 },
 "nbformat": 4,
 "nbformat_minor": 2
}
