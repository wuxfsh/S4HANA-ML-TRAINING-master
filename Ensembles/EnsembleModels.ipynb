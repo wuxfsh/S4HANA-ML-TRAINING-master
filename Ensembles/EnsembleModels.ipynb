{
 "cells": [
  {
   "cell_type": "markdown",
   "metadata": {},
   "source": [
    "## Definition"
   ]
  },
  {
   "cell_type": "markdown",
   "metadata": {},
   "source": [
    "### Problem Statement  \n",
    "\n",
    "The goal is to forecast the demand for bikes in dependency of weather conditions like outside temperature and calendric informations e.g. holidays. These information and the demand structure is provided in a set with two years of daily historic data.  \n",
    "The demand is given as the total daily demand and as a split for registered users and casual users. To increase the quality of the prediction registered user demand and casual user demand will be predicted separately in step two.  \n",
    "   \n",
    "> http://scikit-learn.org/stable/tutorial/machine_learning_map/index.html  \n",
    "> https://github.com/tensorflow/skflow/blob/master/g3doc/api_docs/python/estimators.md  \n",
    "> http://scikit-learn.org/stable/modules/generated/sklearn.grid_search.GridSearchCV.html  \n",
    "> http://scikit-learn.org/stable/modules/generated/sklearn.grid_search.RandomizedSearchCV.html"
   ]
  },
  {
   "cell_type": "code",
   "execution_count": 1,
   "metadata": {},
   "outputs": [
    {
     "name": "stderr",
     "output_type": "stream",
     "text": [
      "/Library/Frameworks/Python.framework/Versions/3.6/lib/python3.6/site-packages/sklearn/cross_validation.py:41: DeprecationWarning: This module was deprecated in version 0.18 in favor of the model_selection module into which all the refactored classes and functions are moved. Also note that the interface of the new CV iterators are different from that of this module. This module will be removed in 0.20.\n",
      "  \"This module will be removed in 0.20.\", DeprecationWarning)\n",
      "/Library/Frameworks/Python.framework/Versions/3.6/lib/python3.6/site-packages/sklearn/grid_search.py:42: DeprecationWarning: This module was deprecated in version 0.18 in favor of the model_selection module into which all the refactored classes and functions are moved. This module will be removed in 0.20.\n",
      "  DeprecationWarning)\n"
     ]
    }
   ],
   "source": [
    "# Import libraries\n",
    "\n",
    "import numpy as np\n",
    "import pandas as pd\n",
    "import matplotlib.pyplot as plt\n",
    "import calendar\n",
    "\n",
    "from sklearn.svm import SVR\n",
    "from sklearn.cross_validation import train_test_split\n",
    "from sklearn.grid_search import GridSearchCV, RandomizedSearchCV\n",
    "from sklearn.metrics import r2_score, mean_squared_error\n",
    "from scipy.stats import randint as sp_randint\n",
    "from scipy.stats import uniform as sp_uniform\n",
    "from math import sqrt"
   ]
  },
  {
   "cell_type": "code",
   "execution_count": 2,
   "metadata": {},
   "outputs": [],
   "source": [
    "from sklearn.model_selection import cross_val_score, train_test_split"
   ]
  },
  {
   "cell_type": "markdown",
   "metadata": {},
   "source": [
    "## Analysis"
   ]
  },
  {
   "cell_type": "code",
   "execution_count": 3,
   "metadata": {},
   "outputs": [
    {
     "name": "stdout",
     "output_type": "stream",
     "text": [
      "Data read successfully!\n"
     ]
    }
   ],
   "source": [
    "# Fetching Dataset\n",
    "\n",
    "bike_data = pd.read_csv(\"day.csv\", header=0)\n",
    "\n",
    "print(\"Data read successfully!\")"
   ]
  },
  {
   "cell_type": "code",
   "execution_count": 4,
   "metadata": {},
   "outputs": [
    {
     "data": {
      "text/html": [
       "<div>\n",
       "<style scoped>\n",
       "    .dataframe tbody tr th:only-of-type {\n",
       "        vertical-align: middle;\n",
       "    }\n",
       "\n",
       "    .dataframe tbody tr th {\n",
       "        vertical-align: top;\n",
       "    }\n",
       "\n",
       "    .dataframe thead th {\n",
       "        text-align: right;\n",
       "    }\n",
       "</style>\n",
       "<table border=\"1\" class=\"dataframe\">\n",
       "  <thead>\n",
       "    <tr style=\"text-align: right;\">\n",
       "      <th></th>\n",
       "      <th>instant</th>\n",
       "      <th>dteday</th>\n",
       "      <th>season</th>\n",
       "      <th>yr</th>\n",
       "      <th>mnth</th>\n",
       "      <th>holiday</th>\n",
       "      <th>weekday</th>\n",
       "      <th>workingday</th>\n",
       "      <th>weathersit</th>\n",
       "      <th>temp</th>\n",
       "      <th>atemp</th>\n",
       "      <th>hum</th>\n",
       "      <th>windspeed</th>\n",
       "      <th>casual</th>\n",
       "      <th>registered</th>\n",
       "      <th>cnt</th>\n",
       "    </tr>\n",
       "  </thead>\n",
       "  <tbody>\n",
       "    <tr>\n",
       "      <th>0</th>\n",
       "      <td>1</td>\n",
       "      <td>2011-01-01</td>\n",
       "      <td>1</td>\n",
       "      <td>0</td>\n",
       "      <td>1</td>\n",
       "      <td>0</td>\n",
       "      <td>6</td>\n",
       "      <td>0</td>\n",
       "      <td>2</td>\n",
       "      <td>0.344167</td>\n",
       "      <td>0.363625</td>\n",
       "      <td>0.805833</td>\n",
       "      <td>0.160446</td>\n",
       "      <td>331</td>\n",
       "      <td>654</td>\n",
       "      <td>985</td>\n",
       "    </tr>\n",
       "    <tr>\n",
       "      <th>1</th>\n",
       "      <td>2</td>\n",
       "      <td>2011-01-02</td>\n",
       "      <td>1</td>\n",
       "      <td>0</td>\n",
       "      <td>1</td>\n",
       "      <td>0</td>\n",
       "      <td>0</td>\n",
       "      <td>0</td>\n",
       "      <td>2</td>\n",
       "      <td>0.363478</td>\n",
       "      <td>0.353739</td>\n",
       "      <td>0.696087</td>\n",
       "      <td>0.248539</td>\n",
       "      <td>131</td>\n",
       "      <td>670</td>\n",
       "      <td>801</td>\n",
       "    </tr>\n",
       "    <tr>\n",
       "      <th>2</th>\n",
       "      <td>3</td>\n",
       "      <td>2011-01-03</td>\n",
       "      <td>1</td>\n",
       "      <td>0</td>\n",
       "      <td>1</td>\n",
       "      <td>0</td>\n",
       "      <td>1</td>\n",
       "      <td>1</td>\n",
       "      <td>1</td>\n",
       "      <td>0.196364</td>\n",
       "      <td>0.189405</td>\n",
       "      <td>0.437273</td>\n",
       "      <td>0.248309</td>\n",
       "      <td>120</td>\n",
       "      <td>1229</td>\n",
       "      <td>1349</td>\n",
       "    </tr>\n",
       "    <tr>\n",
       "      <th>3</th>\n",
       "      <td>4</td>\n",
       "      <td>2011-01-04</td>\n",
       "      <td>1</td>\n",
       "      <td>0</td>\n",
       "      <td>1</td>\n",
       "      <td>0</td>\n",
       "      <td>2</td>\n",
       "      <td>1</td>\n",
       "      <td>1</td>\n",
       "      <td>0.200000</td>\n",
       "      <td>0.212122</td>\n",
       "      <td>0.590435</td>\n",
       "      <td>0.160296</td>\n",
       "      <td>108</td>\n",
       "      <td>1454</td>\n",
       "      <td>1562</td>\n",
       "    </tr>\n",
       "    <tr>\n",
       "      <th>4</th>\n",
       "      <td>5</td>\n",
       "      <td>2011-01-05</td>\n",
       "      <td>1</td>\n",
       "      <td>0</td>\n",
       "      <td>1</td>\n",
       "      <td>0</td>\n",
       "      <td>3</td>\n",
       "      <td>1</td>\n",
       "      <td>1</td>\n",
       "      <td>0.226957</td>\n",
       "      <td>0.229270</td>\n",
       "      <td>0.436957</td>\n",
       "      <td>0.186900</td>\n",
       "      <td>82</td>\n",
       "      <td>1518</td>\n",
       "      <td>1600</td>\n",
       "    </tr>\n",
       "  </tbody>\n",
       "</table>\n",
       "</div>"
      ],
      "text/plain": [
       "   instant      dteday  season  yr  mnth  holiday  weekday  workingday  \\\n",
       "0        1  2011-01-01       1   0     1        0        6           0   \n",
       "1        2  2011-01-02       1   0     1        0        0           0   \n",
       "2        3  2011-01-03       1   0     1        0        1           1   \n",
       "3        4  2011-01-04       1   0     1        0        2           1   \n",
       "4        5  2011-01-05       1   0     1        0        3           1   \n",
       "\n",
       "   weathersit      temp     atemp       hum  windspeed  casual  registered  \\\n",
       "0           2  0.344167  0.363625  0.805833   0.160446     331         654   \n",
       "1           2  0.363478  0.353739  0.696087   0.248539     131         670   \n",
       "2           1  0.196364  0.189405  0.437273   0.248309     120        1229   \n",
       "3           1  0.200000  0.212122  0.590435   0.160296     108        1454   \n",
       "4           1  0.226957  0.229270  0.436957   0.186900      82        1518   \n",
       "\n",
       "    cnt  \n",
       "0   985  \n",
       "1   801  \n",
       "2  1349  \n",
       "3  1562  \n",
       "4  1600  "
      ]
     },
     "execution_count": 4,
     "metadata": {},
     "output_type": "execute_result"
    }
   ],
   "source": [
    "bike_data.head()"
   ]
  },
  {
   "cell_type": "markdown",
   "metadata": {},
   "source": [
    "### Data Exploration"
   ]
  },
  {
   "cell_type": "code",
   "execution_count": 5,
   "metadata": {
    "scrolled": false
   },
   "outputs": [
    {
     "name": "stdout",
     "output_type": "stream",
     "text": [
      "Feature column(s):\n",
      "Index(['instant', 'dteday', 'season', 'yr', 'mnth', 'holiday', 'weekday',\n",
      "       'workingday', 'weathersit', 'temp', 'atemp', 'hum', 'windspeed'],\n",
      "      dtype='object')\n",
      "\n",
      "Target column:\n",
      "cnt\n"
     ]
    }
   ],
   "source": [
    "# Extracting\n",
    "\n",
    "feature_cols = bike_data.columns[:-3]  # all columns but last are features\n",
    "target_col = bike_data.columns[-1]  # last column is the target\n",
    "\n",
    "print (\"Feature column(s):\\n{}\\n\".format(feature_cols))\n",
    "print (\"Target column:\\n{}\".format(target_col))"
   ]
  },
  {
   "cell_type": "code",
   "execution_count": 6,
   "metadata": {},
   "outputs": [],
   "source": [
    "#### Function to Calculate Profit"
   ]
  },
  {
   "cell_type": "code",
   "execution_count": 7,
   "metadata": {},
   "outputs": [],
   "source": [
    "def profit(y,y_cap,revenue=3,loanCost=2):\n",
    "    return revenue * np.minimum(y[::1], y_cap[::1]) - loanCost * y_cap[::1]\n",
    "    "
   ]
  },
  {
   "cell_type": "markdown",
   "metadata": {},
   "source": [
    "#### Markdown:  Function to Calculate Cost\n"
   ]
  },
  {
   "cell_type": "code",
   "execution_count": 8,
   "metadata": {},
   "outputs": [],
   "source": [
    "def cost (y_cap, loanCost):\n",
    "    return loanCost * y_cap[::1]"
   ]
  },
  {
   "cell_type": "markdown",
   "metadata": {},
   "source": [
    "#### Function to Calculate Profit as percentage of total expenditure"
   ]
  },
  {
   "cell_type": "code",
   "execution_count": 9,
   "metadata": {},
   "outputs": [],
   "source": [
    "def profit_percentage(y,y_cap, revenue, loanCost):\n",
    "    return ((revenue * np.minimum(y[::1], y_cap[::1]) - loanCost * y_cap[::1]).sum() / (loanCost * y_cap[::1]).sum() ) * 100"
   ]
  },
  {
   "cell_type": "markdown",
   "metadata": {},
   "source": [
    "#### Function to Convert from percentage to Actual Prediction"
   ]
  },
  {
   "cell_type": "code",
   "execution_count": 10,
   "metadata": {},
   "outputs": [],
   "source": [
    "def convertToPrediction(data,percentage_predictions):\n",
    "    demand = np.around(data + (np.multiply(data, percentage_predictions)/100))\n",
    "    demand[demand <0 ] = 0\n",
    "    return demand"
   ]
  },
  {
   "cell_type": "markdown",
   "metadata": {},
   "source": [
    "##### RMSLE Scorer\n",
    "One common way to evaluate regression model is through calculating MSE or RMSE. In this particular project , the metric to evaluate our model is Root Mean Square Logarithmic Error (RMSLE). RMSLE is particularly helpful when you want to penalize an under-predicted estimate greater than an over-predicted estimate."
   ]
  },
  {
   "cell_type": "code",
   "execution_count": 11,
   "metadata": {},
   "outputs": [],
   "source": [
    "def rmsle(y, y_):\n",
    "    log1 = np.nan_to_num(np.array([np.log(v + 1) for v in y]))\n",
    "    log2 = np.nan_to_num(np.array([np.log(v + 1) for v in y_]))\n",
    "    calc = (log1 - log2) ** 2\n",
    "    return np.sqrt(np.mean(calc))"
   ]
  },
  {
   "cell_type": "markdown",
   "metadata": {},
   "source": [
    "### Base Model"
   ]
  },
  {
   "cell_type": "markdown",
   "metadata": {},
   "source": [
    "#### For the base model the demand for today is the previous days demand. "
   ]
  },
  {
   "cell_type": "code",
   "execution_count": 12,
   "metadata": {},
   "outputs": [],
   "source": [
    "y_actual = bike_data[target_col][365:731]  # corresponding targets\n",
    "y_actual = y_actual.reset_index(drop = True)"
   ]
  },
  {
   "cell_type": "code",
   "execution_count": 13,
   "metadata": {},
   "outputs": [],
   "source": [
    "y_staged = y_actual.copy()"
   ]
  },
  {
   "cell_type": "code",
   "execution_count": 14,
   "metadata": {},
   "outputs": [],
   "source": [
    "data = []\n",
    "data.insert(0, bike_data[target_col][364])\n",
    "data.insert(0, bike_data[target_col][363])"
   ]
  },
  {
   "cell_type": "code",
   "execution_count": 15,
   "metadata": {},
   "outputs": [],
   "source": [
    "y_predicted_df = pd.concat([pd.DataFrame(data), y_staged], ignore_index=True)"
   ]
  },
  {
   "cell_type": "code",
   "execution_count": 16,
   "metadata": {},
   "outputs": [],
   "source": [
    "y_predicted_df.drop(y_predicted_df.tail(2).index,inplace=True)"
   ]
  },
  {
   "cell_type": "code",
   "execution_count": 17,
   "metadata": {},
   "outputs": [],
   "source": [
    "y_predicted = y_predicted_df[0]\n"
   ]
  },
  {
   "cell_type": "markdown",
   "metadata": {},
   "source": [
    "##### Calculate Base Model Profit"
   ]
  },
  {
   "cell_type": "code",
   "execution_count": 18,
   "metadata": {},
   "outputs": [
    {
     "name": "stdout",
     "output_type": "stream",
     "text": [
      "1442972\n"
     ]
    }
   ],
   "source": [
    "print(profit(y_actual,y_predicted).sum())"
   ]
  },
  {
   "cell_type": "code",
   "execution_count": 19,
   "metadata": {},
   "outputs": [
    {
     "name": "stdout",
     "output_type": "stream",
     "text": [
      "cost is:4101070\n",
      "profit is:1442972\n",
      "profit percentage is:35.18525653061274\n"
     ]
    }
   ],
   "source": [
    "print(\"cost is:\" + str(cost(y_predicted,2).sum()) )\n",
    "print(\"profit is:\" + str(profit(y_actual,y_predicted).sum()))\n",
    "print(\"profit percentage is:\" + str(profit_percentage(y_actual,y_predicted, 3, 2)))"
   ]
  },
  {
   "cell_type": "code",
   "execution_count": 20,
   "metadata": {},
   "outputs": [],
   "source": [
    "#### Alternate cost Model 1"
   ]
  },
  {
   "cell_type": "code",
   "execution_count": 21,
   "metadata": {},
   "outputs": [
    {
     "name": "stdout",
     "output_type": "stream",
     "text": [
      "cost is:4101070\n",
      "profit is:-35439.19999999969\n",
      "profit percentage is:-0.8641452108839813\n"
     ]
    }
   ],
   "source": [
    "print(\"cost is:\" + str(cost(y_predicted,2).sum()) )\n",
    "print(\"profit is:\" + str(profit(y_actual,y_predicted,revenue = 2.2,loanCost=2 ).sum()))\n",
    "print(\"profit percentage is:\" + str(profit_percentage(y_actual,y_predicted, 2.2, 2)))"
   ]
  },
  {
   "cell_type": "code",
   "execution_count": 22,
   "metadata": {},
   "outputs": [
    {
     "name": "stdout",
     "output_type": "stream",
     "text": [
      "cost is:4101070\n",
      "profit is:10683042\n",
      "profit percentage is:260.4940174149673\n"
     ]
    }
   ],
   "source": [
    "#### Alternate cost Model 2\n",
    "print(\"cost is:\" + str(cost(y_predicted,2).sum()) )\n",
    "print(\"profit is:\" + str(profit(y_actual,y_predicted,revenue = 8,loanCost=2 ).sum()))\n",
    "print(\"profit percentage is:\" + str(profit_percentage(y_actual,y_predicted, 8, 2)))"
   ]
  },
  {
   "cell_type": "code",
   "execution_count": 23,
   "metadata": {},
   "outputs": [
    {
     "name": "stdout",
     "output_type": "stream",
     "text": [
      "cost is:4101070\n",
      "profit is:5139000\n",
      "profit percentage is:125.30876088435457\n"
     ]
    }
   ],
   "source": [
    "#### Alternate cost Model 3\n",
    "print(\"cost is:\" + str(cost(y_predicted,2).sum()) )\n",
    "print(\"profit is:\" + str(profit(y_actual,y_predicted,revenue = 5,loanCost=2 ).sum()))\n",
    "print(\"profit percentage is:\" + str(profit_percentage(y_actual,y_predicted, 5, 2)))"
   ]
  },
  {
   "cell_type": "markdown",
   "metadata": {},
   "source": [
    "#### Dataset with percentage change"
   ]
  },
  {
   "cell_type": "code",
   "execution_count": 24,
   "metadata": {
    "collapsed": true
   },
   "outputs": [
    {
     "ename": "NameError",
     "evalue": "name 'X_raw_test' is not defined",
     "output_type": "error",
     "traceback": [
      "\u001b[0;31m---------------------------------------------------------------------------\u001b[0m",
      "\u001b[0;31mNameError\u001b[0m                                 Traceback (most recent call last)",
      "\u001b[0;32m<ipython-input-24-d9200d2ff769>\u001b[0m in \u001b[0;36m<module>\u001b[0;34m()\u001b[0m\n\u001b[0;32m----> 1\u001b[0;31m \u001b[0mX_test\u001b[0m \u001b[0;34m=\u001b[0m \u001b[0mX_raw_test\u001b[0m\u001b[0;34m[\u001b[0m\u001b[0mcols\u001b[0m\u001b[0;34m]\u001b[0m\u001b[0;34m.\u001b[0m\u001b[0mvalues\u001b[0m\u001b[0;34m.\u001b[0m\u001b[0mtolist\u001b[0m\u001b[0;34m(\u001b[0m\u001b[0;34m)\u001b[0m\u001b[0;34m\u001b[0m\u001b[0m\n\u001b[0m\u001b[1;32m      2\u001b[0m \u001b[0my_test_df\u001b[0m \u001b[0;34m=\u001b[0m \u001b[0mX_raw_test\u001b[0m\u001b[0;34m[\u001b[0m\u001b[0;34m[\u001b[0m\u001b[0;34m'target'\u001b[0m\u001b[0;34m]\u001b[0m\u001b[0;34m]\u001b[0m\u001b[0;34m\u001b[0m\u001b[0m\n\u001b[1;32m      3\u001b[0m \u001b[0my_test\u001b[0m \u001b[0;34m=\u001b[0m \u001b[0my_test_df\u001b[0m\u001b[0;34m[\u001b[0m\u001b[0;34m'target'\u001b[0m\u001b[0;34m]\u001b[0m\u001b[0;34m.\u001b[0m\u001b[0mtolist\u001b[0m\u001b[0;34m(\u001b[0m\u001b[0;34m)\u001b[0m\u001b[0;34m\u001b[0m\u001b[0m\n",
      "\u001b[0;31mNameError\u001b[0m: name 'X_raw_test' is not defined"
     ]
    }
   ],
   "source": [
    "X_test = X_raw_test[cols].values.tolist()\n",
    "y_test_df = X_raw_test[['target']]\n",
    "y_test = y_test_df['target'].tolist()"
   ]
  },
  {
   "cell_type": "code",
   "execution_count": 25,
   "metadata": {},
   "outputs": [],
   "source": [
    "data = pd.read_csv(\"processed_Data.csv\", header=0)\n",
    "data['instant'] = data['instant'] % 30\n",
    "X_raw_train = data[0:359]\n",
    "X_raw_test  = data[359:]"
   ]
  },
  {
   "cell_type": "code",
   "execution_count": 26,
   "metadata": {},
   "outputs": [],
   "source": [
    "cols =[\n",
    "       \"season__1\",\"season__2\",\"season__3\",\"season__4\",\"season__5\",\n",
    "       \"weathersit__1\",\"weathersit__2\",\"weathersit__3\",\"weathersit__4\",\"weathersit__5\",\n",
    "        \"cnt__1\",\n",
    "        \"atemp\",\"hum\",\"windspeed\",\n",
    "        \"mnth\",\"instant\",\"holiday\",\"weekday\",\"workingday\",\n",
    "        \"moving_avg_weekly_cnt\"]     "
   ]
  },
  {
   "cell_type": "code",
   "execution_count": 27,
   "metadata": {},
   "outputs": [],
   "source": [
    "X_train = X_raw_train[cols].values.tolist()\n",
    "y_train_df = X_raw_train[['demand_pc_inc']]\n",
    "y_train = y_train_df['demand_pc_inc'].tolist()"
   ]
  },
  {
   "cell_type": "code",
   "execution_count": 28,
   "metadata": {},
   "outputs": [],
   "source": [
    "X_test = X_raw_test[cols].values.tolist()\n",
    "y_test_df = X_raw_test[['demand_pc_inc']]\n",
    "y_test = y_test_df['demand_pc_inc'].tolist()"
   ]
  },
  {
   "cell_type": "code",
   "execution_count": 29,
   "metadata": {},
   "outputs": [],
   "source": [
    "data_cnt = data['cnt']"
   ]
  },
  {
   "cell_type": "code",
   "execution_count": 30,
   "metadata": {},
   "outputs": [],
   "source": [
    "actual_predictions = data_cnt[359:].values"
   ]
  },
  {
   "cell_type": "code",
   "execution_count": 31,
   "metadata": {},
   "outputs": [],
   "source": [
    "y_for_calculations = data_cnt[357:723].values"
   ]
  },
  {
   "cell_type": "markdown",
   "metadata": {},
   "source": [
    "### Algorithms and Techniques"
   ]
  },
  {
   "cell_type": "markdown",
   "metadata": {},
   "source": [
    "##### Ensemble Methods\n",
    "\n",
    "Ensemble methods are meta-algorithms that combine several machine learning techniques into one predictive model in order to decrease variance (bagging), bias (boosting), or improve predictions (stacking). Ensemble methods can be divided into two groups: sequential ensemble methods where the base learners are generated sequentially (e.g. AdaBoost) and parallel ensemble methods where the base learners are generated in parallel (e.g. Random Forest). The basic motivation of sequential methods is to exploit the dependence between the base learners since the overall performance can be boosted by weighing previously mislabeled examples with higher weight. The basic motivation of parallel methods is to exploit independence between the base learners since the error can be reduced dramatically by averaging."
   ]
  },
  {
   "cell_type": "code",
   "execution_count": 32,
   "metadata": {},
   "outputs": [],
   "source": [
    "from sklearn.linear_model import LinearRegression,Ridge,Lasso,RidgeCV\n",
    "from sklearn.ensemble import RandomForestRegressor,BaggingRegressor,GradientBoostingRegressor,AdaBoostRegressor\n",
    "from sklearn.svm import SVR\n",
    "from sklearn.neighbors import KNeighborsRegressor"
   ]
  },
  {
   "cell_type": "code",
   "execution_count": 33,
   "metadata": {},
   "outputs": [],
   "source": [
    "from sklearn.metrics import mean_squared_log_error,mean_squared_error, r2_score,mean_absolute_error # for regression\n",
    "from sklearn.metrics import accuracy_score,precision_score,recall_score,f1_score  # for classification"
   ]
  },
  {
   "cell_type": "markdown",
   "metadata": {},
   "source": [
    "##### Implementation\n",
    "The regressors are trained using randomized search and cross-validation to identify the area of the best parameters. Then a grid search is used to tune parameter values of the regressor functions.\n",
    "\n",
    "http://scikit-learn.org/stable/modules/generated/sklearn.grid_search.GridSearchCV.html\n",
    "http://scikit-learn.org/stable/modules/generated/sklearn.grid_search.RandomizedSearchCV.html"
   ]
  },
  {
   "cell_type": "markdown",
   "metadata": {},
   "source": [
    "#### Boosting\n",
    "Boosting refers to a family of algorithms that are able to convert weak learners to strong learners. The main principle of boosting is to fit a sequence of weak learners (models that are only slightly better than random guessing, such as small decision trees) to weighted versions of the data, where more weight is given to examples that were mis-classified by earlier rounds. The predictions are then combined through a weighted majority vote (classification) or a weighted sum (regression) to produce the final prediction. The principal difference between boosting and the committee methods such as bagging is that base learners are trained in sequence on a weighted version of the data."
   ]
  },
  {
   "cell_type": "markdown",
   "metadata": {},
   "source": [
    "###### Adaptive Boosting\n",
    "\n",
    "The algorithm below describes the most widely used form of boosting algorithm called AdaBoost, which stands for adaptive boosting."
   ]
  },
  {
   "cell_type": "code",
   "execution_count": 34,
   "metadata": {},
   "outputs": [
    {
     "name": "stdout",
     "output_type": "stream",
     "text": [
      "1507731.0\n"
     ]
    }
   ],
   "source": [
    "### ADA Boost Regressor\n",
    "\n",
    "from sklearn.ensemble import AdaBoostRegressor\n",
    "from sklearn import pipeline,metrics,grid_search\n",
    "\n",
    "#regressor = RandomForestRegressor(random_state = 0, max_depth = 30, n_estimators = 500, max_features = 'log2')\n",
    "regressor = AdaBoostRegressor()\n",
    "estimator_ada = pipeline.Pipeline(steps = [       \n",
    "    ('model_fitting', regressor)\n",
    "    ]\n",
    ")\n",
    "estimator_ada.fit(X_train, y_train)\n",
    "pred_ada = estimator_ada.predict(X_test)\n",
    "model_predictions_ada = convertToPrediction(y_for_calculations,pred_ada)\n",
    "print(profit(actual_predictions,model_predictions_ada).sum())"
   ]
  },
  {
   "cell_type": "code",
   "execution_count": 35,
   "metadata": {},
   "outputs": [
    {
     "name": "stdout",
     "output_type": "stream",
     "text": [
      "1475448.0\n"
     ]
    }
   ],
   "source": [
    "num_est = [1, 2, 3, 10,50,100,200,300,500]\n",
    "learning_rate = [0.01,0.1,0.5,1]\n",
    "loss = ['linear', 'square', 'exponential']\n",
    "params_dict={'n_estimators':num_est,'learning_rate': learning_rate,'loss':loss}\n",
    "clf_ada=GridSearchCV(estimator=AdaBoostRegressor(),param_grid=params_dict,scoring='neg_mean_squared_error')\n",
    "clf_ada.fit(X_train,y_train)\n",
    "pred_ada=clf_ada.predict(X_test)\n",
    "model_predictions_ada = convertToPrediction(y_for_calculations,pred_ada)\n",
    "print(profit(actual_predictions,model_predictions_ada).sum())"
   ]
  },
  {
   "cell_type": "code",
   "execution_count": 36,
   "metadata": {},
   "outputs": [
    {
     "name": "stdout",
     "output_type": "stream",
     "text": [
      "Best params:  {'learning_rate': 1, 'loss': 'square', 'n_estimators': 1}\n"
     ]
    }
   ],
   "source": [
    "print(\"Best params: \", clf_ada.best_params_)"
   ]
  },
  {
   "cell_type": "code",
   "execution_count": 40,
   "metadata": {},
   "outputs": [
    {
     "name": "stdout",
     "output_type": "stream",
     "text": [
      "1528561.0\n"
     ]
    }
   ],
   "source": [
    "regressor = AdaBoostRegressor(n_estimators = 200, loss = 'square')\n",
    "estimator_ada = pipeline.Pipeline(steps = [       \n",
    "    ('model_fitting', regressor)\n",
    "    ]\n",
    ")\n",
    "estimator_ada.fit(X_train, y_train)\n",
    "pred_ada = estimator_ada.predict(X_test)\n",
    "model_predictions_ada = convertToPrediction(y_for_calculations,pred_ada)\n",
    "print(profit(actual_predictions,model_predictions_ada).sum())"
   ]
  },
  {
   "cell_type": "code",
   "execution_count": 41,
   "metadata": {},
   "outputs": [
    {
     "name": "stdout",
     "output_type": "stream",
     "text": [
      "RMSLE Value:  0.4781617842632507\n"
     ]
    }
   ],
   "source": [
    "print (\"RMSLE Value: \",rmsle(actual_predictions,model_predictions_ada))"
   ]
  },
  {
   "cell_type": "code",
   "execution_count": 44,
   "metadata": {},
   "outputs": [
    {
     "name": "stdout",
     "output_type": "stream",
     "text": [
      "cost is:3831566.0\n",
      "profit is:10462106.0\n",
      "profit percentage is:273.050392450502\n"
     ]
    }
   ],
   "source": [
    "###\n",
    "print(\"cost is:\" + str(cost(model_predictions_ada,2).sum()) )\n",
    "print(\"profit is:\" + str(profit(actual_predictions,model_predictions_ada).sum()))\n",
    "print(\"profit percentage is:\" + str(profit_percentage(actual_predictions,model_predictions_ada, 3, 2)))"
   ]
  },
  {
   "cell_type": "code",
   "execution_count": 45,
   "metadata": {},
   "outputs": [
    {
     "name": "stdout",
     "output_type": "stream",
     "text": [
      "cost is:3831566.0\n",
      "profit is:99193.80000000032\n",
      "profit percentage is:2.588857923888048\n"
     ]
    }
   ],
   "source": [
    "#### Alternate cost Model 1\n",
    "print(\"cost is:\" + str(cost(model_predictions_ada,2).sum()) )\n",
    "print(\"profit is:\" + str(profit(actual_predictions,model_predictions_ada,revenue = 2.2,loanCost=2 ).sum()))\n",
    "print(\"profit percentage is:\" + str(profit_percentage(actual_predictions,model_predictions_ada,2.2 , 2)))"
   ]
  },
  {
   "cell_type": "code",
   "execution_count": 46,
   "metadata": {},
   "outputs": [
    {
     "name": "stdout",
     "output_type": "stream",
     "text": [
      "cost is:3831566.0\n",
      "profit is:10462106.0\n",
      "profit percentage is:273.050392450502\n"
     ]
    }
   ],
   "source": [
    "#### Alternate cost Model 2\n",
    "print(\"cost is:\" + str(cost(model_predictions_ada,2).sum()) )\n",
    "print(\"profit is:\" + str(profit(actual_predictions,model_predictions_ada,revenue = 8,loanCost=2 ).sum()))\n",
    "print(\"profit percentage is:\" + str(profit_percentage(actual_predictions,model_predictions_ada,8,2)))"
   ]
  },
  {
   "cell_type": "code",
   "execution_count": 129,
   "metadata": {},
   "outputs": [],
   "source": [
    "#Ensemble Size\n",
    "num_est = map(int, np.linspace(1,100,20))\n",
    "bg_clf_cv_mean = []\n",
    "bg_clf_cv_std = []\n",
    "for n_est in num_est:\n",
    "    ada_clf = AdaBoostRegressor(n_estimators=n_est)\n",
    "    scores = cross_val_score(ada_clf, X_test, y_test, cv=3, scoring='neg_mean_squared_error')\n",
    "    bg_clf_cv_mean.append(scores.mean())\n",
    "    bg_clf_cv_std.append(scores.std())"
   ]
  },
  {
   "cell_type": "markdown",
   "metadata": {},
   "source": [
    "#### Gradient Tree Boosting\n",
    "It is generally believed that boosting based algorithms like Gradient Boosting and XGBoost performs better than algorithms based on bagging. So its time to test how boosting algorithms can help us in improving our test score."
   ]
  },
  {
   "cell_type": "code",
   "execution_count": 96,
   "metadata": {},
   "outputs": [
    {
     "name": "stdout",
     "output_type": "stream",
     "text": [
      "1581354.0\n"
     ]
    }
   ],
   "source": [
    "from sklearn.ensemble import GradientBoostingRegressor\n",
    "\n",
    "gbr = GradientBoostingRegressor()\n",
    "\n",
    "estimator_gbr = pipeline.Pipeline(steps = [       \n",
    "    ('model_fitting', gbr)\n",
    "    ]\n",
    ")\n",
    "estimator_gbr.fit(X_train, y_train)\n",
    "pred_gbr = estimator_gbr.predict(X_test)\n",
    "model_predictions_gbr = convertToPrediction(y_for_calculations,pred_gbr)\n",
    "print(profit(actual_predictions,model_predictions_gbr).sum())"
   ]
  },
  {
   "cell_type": "code",
   "execution_count": 97,
   "metadata": {},
   "outputs": [
    {
     "name": "stdout",
     "output_type": "stream",
     "text": [
      "RMSLE Value:  0.46912477237024686\n"
     ]
    }
   ],
   "source": [
    "print (\"RMSLE Value: \",rmsle(actual_predictions,model_predictions_gbr))"
   ]
  },
  {
   "cell_type": "code",
   "execution_count": 99,
   "metadata": {},
   "outputs": [
    {
     "name": "stdout",
     "output_type": "stream",
     "text": [
      "1574795.0\n"
     ]
    }
   ],
   "source": [
    "num_est = [1, 2, 3, 10,50,100,200,300,500]\n",
    "learning_rate = [0.01,0.1,0.5,1]\n",
    "loss = ['ls', 'lad', 'huber', 'quantile']\n",
    "max_depth = [1,3,5,10,20]\n",
    "params_dict={'n_estimators':num_est,'learning_rate': learning_rate,'loss':loss, 'max_depth': max_depth}\n",
    "clf_gbr=GridSearchCV(estimator=GradientBoostingRegressor(),param_grid=params_dict,scoring='neg_mean_squared_error')\n",
    "clf_gbr.fit(X_train,y_train)\n",
    "pred_gbr=clf_gbr.predict(X_test)\n",
    "model_predictions_gbr = convertToPrediction(y_for_calculations,pred_gbr)\n",
    "print(profit(actual_predictions,model_predictions_gbr).sum())"
   ]
  },
  {
   "cell_type": "code",
   "execution_count": 100,
   "metadata": {},
   "outputs": [
    {
     "name": "stdout",
     "output_type": "stream",
     "text": [
      "Best params:  {'learning_rate': 0.1, 'loss': 'lad', 'max_depth': 3, 'n_estimators': 500}\n"
     ]
    }
   ],
   "source": [
    "print(\"Best params: \", clf_gbr.best_params_)"
   ]
  },
  {
   "cell_type": "code",
   "execution_count": 110,
   "metadata": {},
   "outputs": [
    {
     "name": "stdout",
     "output_type": "stream",
     "text": [
      "1586358.0\n"
     ]
    }
   ],
   "source": [
    "from sklearn.ensemble import GradientBoostingRegressor\n",
    "\n",
    "gbr = GradientBoostingRegressor(learning_rate = 0.1, loss = 'lad', max_depth =  3, n_estimators =  500)\n",
    "\n",
    "estimator_gbr = pipeline.Pipeline(steps = [       \n",
    "    ('model_fitting', gbr)\n",
    "    ]\n",
    ")\n",
    "estimator_gbr.fit(X_train, y_train)\n",
    "pred_gbr = estimator_gbr.predict(X_test)\n",
    "model_predictions_gbr = convertToPrediction(y_for_calculations,pred_gbr)\n",
    "print(profit(actual_predictions,model_predictions_gbr).sum())"
   ]
  },
  {
   "cell_type": "code",
   "execution_count": 111,
   "metadata": {},
   "outputs": [
    {
     "name": "stdout",
     "output_type": "stream",
     "text": [
      "RMSLE Value:  0.44077420589976285\n"
     ]
    }
   ],
   "source": [
    "print (\"RMSLE Value: \",rmsle(actual_predictions,model_predictions_gbr))"
   ]
  },
  {
   "cell_type": "code",
   "execution_count": 291,
   "metadata": {},
   "outputs": [
    {
     "name": "stdout",
     "output_type": "stream",
     "text": [
      "cost is:3417336.0\n",
      "profit is:1586358.0\n",
      "profit percentage is:46.420896277100056\n"
     ]
    }
   ],
   "source": [
    "print(\"cost is:\" + str(cost(model_predictions_gbr,2).sum()) )\n",
    "print(\"profit is:\" + str(profit(actual_predictions,model_predictions_gbr).sum()))\n",
    "print(\"profit percentage is:\" + str(profit_percentage(actual_predictions,model_predictions_gbr, 3, 2)))"
   ]
  },
  {
   "cell_type": "code",
   "execution_count": 136,
   "metadata": {},
   "outputs": [
    {
     "data": {
      "text/plain": [
       "<matplotlib.axes._subplots.AxesSubplot at 0x114dba7f0>"
      ]
     },
     "execution_count": 136,
     "metadata": {},
     "output_type": "execute_result"
    },
    {
     "data": {
      "image/png": "[encoded data removed]",
      "text/plain": [
       "<Figure size 864x360 with 2 Axes>"
      ]
     },
     "metadata": {},
     "output_type": "display_data"
    }
   ],
   "source": [
    "import seaborn as sn\n",
    "fig,(ax1,ax2)= plt.subplots(ncols=2)\n",
    "#plotting two figures\n",
    "\n",
    "fig.set_size_inches(12,5)\n",
    "#dimensions of each figure\n",
    "\n",
    "sn.distplot(actual_predictions,ax=ax1,bins=50)\n",
    "#plotting the original test data on axis 1\n",
    "\n",
    "sn.distplot(model_predictions_gbr,ax=ax2,bins=50)\n",
    "#plotting predicted values of GBM"
   ]
  },
  {
   "cell_type": "markdown",
   "metadata": {},
   "source": [
    "#### Bagging\n",
    "Bagging stands for bootstrap aggregation. One way to reduce the variance of an estimate is to average together multiple estimates. For example, we can train $M$ different trees $f_m$ on different subsets of the data (chosen randomly with replacement) and compute the ensemble: $$\n",
    "   f(x) = \\frac{1}{M}\\sum_{m=1}^{M}f_m(x) \n",
    "$$\n",
    "\n",
    "Bagging uses bootstrap sampling to obtain the data subsets for training the base learners. For aggregating the outputs of base learners, bagging uses voting for classification and averaging for regression."
   ]
  },
  {
   "cell_type": "markdown",
   "metadata": {},
   "source": [
    "##### Random Forest Regressor\n",
    "In random forests, each tree in the ensemble is built from a sample drawn with replacement (i.e. a bootstrap sample) from the training set. In addition, instead of using all the features, a random subset of features is selected, further randomizing the tree.\n",
    "\n",
    "As a result, the bias of the forest increases slightly, but due to the averaging of less correlated trees, its variance decreases, resulting in an overall better model."
   ]
  },
  {
   "cell_type": "code",
   "execution_count": 137,
   "metadata": {},
   "outputs": [
    {
     "name": "stdout",
     "output_type": "stream",
     "text": [
      "1594543.0\n"
     ]
    }
   ],
   "source": [
    "from sklearn.ensemble import RandomForestRegressor\n",
    "from sklearn import pipeline,metrics,grid_search\n",
    "\n",
    "#regressor = RandomForestRegressor(random_state = 0, max_depth = 30, n_estimators = 500, max_features = 'log2')\n",
    "regressor = RandomForestRegressor()\n",
    "estimator_rf = pipeline.Pipeline(steps = [       \n",
    "    ('model_fitting', regressor)\n",
    "    ]\n",
    ")\n",
    "estimator_rf.fit(X_train, y_train)\n",
    "pred_rf = estimator_rf.predict(X_test)\n",
    "model_predictions_rf = convertToPrediction(y_for_calculations,pred_rf)\n",
    "print(profit(actual_predictions,model_predictions_rf).sum())"
   ]
  },
  {
   "cell_type": "code",
   "execution_count": 138,
   "metadata": {},
   "outputs": [
    {
     "name": "stdout",
     "output_type": "stream",
     "text": [
      "RMSLE Value:  0.44077420589976285\n"
     ]
    }
   ],
   "source": [
    "print (\"RMSLE Value: \",rmsle(actual_predictions,model_predictions_gbr))"
   ]
  },
  {
   "cell_type": "code",
   "execution_count": 139,
   "metadata": {},
   "outputs": [
    {
     "name": "stdout",
     "output_type": "stream",
     "text": [
      "1547574.0\n"
     ]
    }
   ],
   "source": [
    "\n",
    "#for random forest regresion.\n",
    "no_of_test=[10,20,30,100,200,500]\n",
    "params_dict={'n_estimators':no_of_test,'n_jobs':[-1],'max_features':[\"auto\",'sqrt','log2'],'max_depth':[2,3,5,10,20,30]}\n",
    "clf_rf=GridSearchCV(estimator=RandomForestRegressor(),param_grid=params_dict,scoring='neg_mean_squared_error')\n",
    "clf_rf.fit(X_train,y_train)\n",
    "pred_rf=clf_rf.predict(X_test)\n",
    "model_predictions_rf = convertToPrediction(y_for_calculations,pred_rf)\n",
    "print(profit(actual_predictions,model_predictions_rf).sum())"
   ]
  },
  {
   "cell_type": "code",
   "execution_count": 142,
   "metadata": {},
   "outputs": [
    {
     "name": "stdout",
     "output_type": "stream",
     "text": [
      "Best params:  {'max_depth': 30, 'max_features': 'log2', 'n_estimators': 30, 'n_jobs': -1}\n"
     ]
    }
   ],
   "source": [
    "print(\"Best params: \", clf_rf.best_params_)"
   ]
  },
  {
   "cell_type": "code",
   "execution_count": 175,
   "metadata": {},
   "outputs": [
    {
     "name": "stdout",
     "output_type": "stream",
     "text": [
      "1597493.0\n"
     ]
    }
   ],
   "source": [
    "from sklearn.ensemble import RandomForestRegressor\n",
    "from sklearn import pipeline,metrics,grid_search\n",
    "\n",
    "regressor = RandomForestRegressor(max_depth = 30, n_estimators = 30)\n",
    "\n",
    "estimator_rf = pipeline.Pipeline(steps = [       \n",
    "    ('model_fitting', regressor)\n",
    "    ]\n",
    ")\n",
    "estimator_rf.fit(X_train, y_train)\n",
    "pred_rf = estimator_rf.predict(X_test)\n",
    "model_predictions_rf = convertToPrediction(y_for_calculations,pred_rf)\n",
    "print(profit(actual_predictions,model_predictions_rf).sum())"
   ]
  },
  {
   "cell_type": "code",
   "execution_count": 176,
   "metadata": {},
   "outputs": [
    {
     "name": "stdout",
     "output_type": "stream",
     "text": [
      "RMSLE Value:  0.44077420589976285\n"
     ]
    }
   ],
   "source": [
    "print (\"RMSLE Value: \",rmsle(actual_predictions,model_predictions_gbr))"
   ]
  },
  {
   "cell_type": "code",
   "execution_count": 292,
   "metadata": {},
   "outputs": [
    {
     "name": "stdout",
     "output_type": "stream",
     "text": [
      "cost is:3659800.0\n",
      "profit is:1597493.0\n",
      "profit percentage is:43.649734958194436\n"
     ]
    }
   ],
   "source": [
    "print(\"cost is:\" + str(cost(model_predictions_rf,2).sum()) )\n",
    "print(\"profit is:\" + str(profit(actual_predictions,model_predictions_rf).sum()))\n",
    "print(\"profit percentage is:\" + str(profit_percentage(actual_predictions,model_predictions_rf, 3, 2)))"
   ]
  },
  {
   "cell_type": "code",
   "execution_count": 184,
   "metadata": {},
   "outputs": [
    {
     "data": {
      "text/plain": [
       "<matplotlib.axes._subplots.AxesSubplot at 0x110fb7358>"
      ]
     },
     "execution_count": 184,
     "metadata": {},
     "output_type": "execute_result"
    },
    {
     "data": {
      "image/png": "[encoded data removed]",
      "text/plain": [
       "<Figure size 1440x360 with 1 Axes>"
      ]
     },
     "metadata": {},
     "output_type": "display_data"
    }
   ],
   "source": [
    "# Feature Importance By Random Forest\n",
    "features = pd.DataFrame()\n",
    "features['features'] = X_raw_train[cols].columns\n",
    "features['coefficient'] = regressor.feature_importances_\n",
    "features.sort_values(by=['coefficient'],ascending=False,inplace=True)\n",
    "fig,ax= plt.subplots()\n",
    "fig.set_size_inches(20,5)\n",
    "sn.barplot(data=features,x=\"features\",y=\"coefficient\",ax=ax)"
   ]
  },
  {
   "cell_type": "markdown",
   "metadata": {},
   "source": [
    "#### Bagging Regressor\n",
    "A Bagging regressor is an ensemble meta-estimator that fits base regressors each on random subsets of the original dataset and then aggregate their individual predictions (either by voting or by averaging) to form a final prediction. Such a meta-estimator can typically be used as a way to reduce the variance of a black-box estimator (e.g., a decision tree), by introducing randomization into its construction procedure and then making an ensemble out of it."
   ]
  },
  {
   "cell_type": "code",
   "execution_count": 242,
   "metadata": {},
   "outputs": [
    {
     "name": "stdout",
     "output_type": "stream",
     "text": [
      "1589684.0\n"
     ]
    }
   ],
   "source": [
    "### Bagging Regressor\n",
    "\n",
    "from sklearn.ensemble import BaggingRegressor\n",
    "from sklearn import pipeline,metrics,grid_search\n",
    "\n",
    "regressor = BaggingRegressor()\n",
    "estimator_bagging = pipeline.Pipeline(steps = [       \n",
    "    ('model_fitting', regressor)\n",
    "    ]\n",
    ")\n",
    "estimator_bagging.fit(X_train, y_train)\n",
    "pred_bagging = estimator_bagging.predict(X_test)\n",
    "model_predictions_bagging = convertToPrediction(y_for_calculations,pred_bagging)\n",
    "print(profit(actual_predictions,model_predictions_bagging).sum())\n"
   ]
  },
  {
   "cell_type": "code",
   "execution_count": 211,
   "metadata": {},
   "outputs": [],
   "source": [
    "from sklearn.tree import DecisionTreeRegressor\n",
    "br1 = DecisionTreeRegressor( max_depth=1)\n",
    "br2 = KNeighborsRegressor(n_neighbors=1)    \n",
    "\n",
    "bagging1 = BaggingRegressor(base_estimator=br1, n_estimators=10, max_samples=0.8, max_features=0.8)\n",
    "bagging2 = BaggingRegressor(base_estimator=br2, n_estimators=10, max_samples=0.8, max_features=0.8)"
   ]
  },
  {
   "cell_type": "code",
   "execution_count": 256,
   "metadata": {},
   "outputs": [
    {
     "name": "stdout",
     "output_type": "stream",
     "text": [
      "1595955.0\n"
     ]
    }
   ],
   "source": [
    "estimator_bagging = pipeline.Pipeline(steps = [       \n",
    "    ('model_fitting', regressor)\n",
    "    ]\n",
    ")\n",
    "estimator_bagging.fit(X_train, y_train)\n",
    "pred_bagging = estimator_bagging.predict(X_test)\n",
    "model_predictions_bagging = convertToPrediction(y_for_calculations,pred_bagging)\n",
    "print(profit(actual_predictions,model_predictions_bagging).sum())"
   ]
  },
  {
   "cell_type": "code",
   "execution_count": 258,
   "metadata": {},
   "outputs": [
    {
     "name": "stdout",
     "output_type": "stream",
     "text": [
      "RMSLE Value:  0.4506950947403924\n"
     ]
    }
   ],
   "source": [
    "print (\"RMSLE Value: \",rmsle(actual_predictions,model_predictions_bagging))"
   ]
  },
  {
   "cell_type": "code",
   "execution_count": 293,
   "metadata": {},
   "outputs": [
    {
     "name": "stdout",
     "output_type": "stream",
     "text": [
      "cost is:3705558.0\n",
      "profit is:1595955.0\n",
      "profit percentage is:43.06922196333184\n"
     ]
    }
   ],
   "source": [
    "print(\"cost is:\" + str(cost(model_predictions_bagging,2).sum()) )\n",
    "print(\"profit is:\" + str(profit(actual_predictions,model_predictions_bagging).sum()))\n",
    "print(\"profit percentage is:\" + str(profit_percentage(actual_predictions,model_predictions_bagging, 3, 2)))"
   ]
  },
  {
   "cell_type": "markdown",
   "metadata": {},
   "source": [
    "#### Stacking\n",
    "Stacking is an ensemble learning technique that combines multiple classification or regression models via a meta-classifier or a meta-regressor. The base level models are trained based on complete training set then the meta-model is trained on the outputs of base level model as features. The base level often consists of different learning algorithms and therefore stacking ensembles are often heterogeneous."
   ]
  },
  {
   "cell_type": "code",
   "execution_count": 266,
   "metadata": {},
   "outputs": [],
   "source": [
    "pred_train_rf = estimator_rf.predict(X_train)\n",
    "pred_train_gbr = estimator_gbr.predict(X_train)\n",
    "pred_train_ada = estimator_ada.predict(X_train)\n",
    "pred_train_bagging = estimator_bagging.predict(X_train)"
   ]
  },
  {
   "cell_type": "code",
   "execution_count": 267,
   "metadata": {},
   "outputs": [],
   "source": [
    "stack = pd.DataFrame({'rf':pred_train_rf, 'gbr':pred_train_gbr, 'ada':pred_train_ada,\n",
    "                      'bagging':pred_train_bagging,'true':y_train})"
   ]
  },
  {
   "cell_type": "code",
   "execution_count": 268,
   "metadata": {
    "collapsed": true
   },
   "outputs": [
    {
     "name": "stdout",
     "output_type": "stream",
     "text": [
      "WARNING:tensorflow:From /Library/Frameworks/Python.framework/Versions/3.6/lib/python3.6/site-packages/tensorflow/contrib/learn/python/learn/datasets/base.py:198: retry (from tensorflow.contrib.learn.python.learn.datasets.base) is deprecated and will be removed in a future version.\n",
      "Instructions for updating:\n",
      "Use the retry module or similar alternatives.\n",
      "WARNING:tensorflow:From <ipython-input-268-243d79292383>:5: infer_real_valued_columns_from_input (from tensorflow.contrib.learn.python.learn.estimators.estimator) is deprecated and will be removed in a future version.\n",
      "Instructions for updating:\n",
      "Please specify feature columns explicitly.\n",
      "WARNING:tensorflow:From /Library/Frameworks/Python.framework/Versions/3.6/lib/python3.6/site-packages/tensorflow/contrib/learn/python/learn/estimators/estimator.py:142: setup_train_data_feeder (from tensorflow.contrib.learn.python.learn.learn_io.data_feeder) is deprecated and will be removed in a future version.\n",
      "Instructions for updating:\n",
      "Please use tensorflow/transform or tf.data.\n",
      "WARNING:tensorflow:From /Library/Frameworks/Python.framework/Versions/3.6/lib/python3.6/site-packages/tensorflow/contrib/learn/python/learn/learn_io/data_feeder.py:100: extract_pandas_data (from tensorflow.contrib.learn.python.learn.learn_io.pandas_io) is deprecated and will be removed in a future version.\n",
      "Instructions for updating:\n",
      "Please access pandas data directly.\n",
      "WARNING:tensorflow:From /Library/Frameworks/Python.framework/Versions/3.6/lib/python3.6/site-packages/tensorflow/contrib/learn/python/learn/learn_io/data_feeder.py:159: DataFeeder.__init__ (from tensorflow.contrib.learn.python.learn.learn_io.data_feeder) is deprecated and will be removed in a future version.\n",
      "Instructions for updating:\n",
      "Please use tensorflow/transform or tf.data.\n",
      "WARNING:tensorflow:From /Library/Frameworks/Python.framework/Versions/3.6/lib/python3.6/site-packages/tensorflow/contrib/learn/python/learn/learn_io/data_feeder.py:340: check_array (from tensorflow.contrib.learn.python.learn.learn_io.data_feeder) is deprecated and will be removed in a future version.\n",
      "Instructions for updating:\n",
      "Please convert numpy dtypes explicitly.\n",
      "WARNING:tensorflow:float64 is not supported by many models, consider casting to float32.\n",
      "WARNING:tensorflow:From /Library/Frameworks/Python.framework/Versions/3.6/lib/python3.6/site-packages/tensorflow/contrib/learn/python/learn/estimators/estimator.py:182: infer_real_valued_columns_from_input_fn (from tensorflow.contrib.learn.python.learn.estimators.estimator) is deprecated and will be removed in a future version.\n",
      "Instructions for updating:\n",
      "Please specify feature columns explicitly.\n",
      "WARNING:tensorflow:From /Library/Frameworks/Python.framework/Versions/3.6/lib/python3.6/site-packages/tensorflow/contrib/learn/python/learn/estimators/dnn.py:660: regression_head (from tensorflow.contrib.learn.python.learn.estimators.head) is deprecated and will be removed in a future version.\n",
      "Instructions for updating:\n",
      "Please switch to tf.contrib.estimator.*_head.\n",
      "WARNING:tensorflow:From /Library/Frameworks/Python.framework/Versions/3.6/lib/python3.6/site-packages/tensorflow/contrib/learn/python/learn/estimators/estimator.py:1165: BaseEstimator.__init__ (from tensorflow.contrib.learn.python.learn.estimators.estimator) is deprecated and will be removed in a future version.\n",
      "Instructions for updating:\n",
      "Please replace uses of any Estimator from tf.contrib.learn with an Estimator from tf.estimator.*\n",
      "WARNING:tensorflow:From /Library/Frameworks/Python.framework/Versions/3.6/lib/python3.6/site-packages/tensorflow/contrib/learn/python/learn/estimators/estimator.py:427: RunConfig.__init__ (from tensorflow.contrib.learn.python.learn.estimators.run_config) is deprecated and will be removed in a future version.\n",
      "Instructions for updating:\n",
      "When switching to tf.estimator.Estimator, use tf.estimator.RunConfig instead.\n",
      "INFO:tensorflow:Using default config.\n",
      "WARNING:tensorflow:Using temporary folder as model directory: /var/folders/qk/0vhw5p4n2610vyrs2zqjmj2h0000gn/T/tmp3tcjyar3\n",
      "INFO:tensorflow:Using config: {'_task_type': None, '_task_id': 0, '_cluster_spec': <tensorflow.python.training.server_lib.ClusterSpec object at 0x1242def28>, '_master': '', '_num_ps_replicas': 0, '_num_worker_replicas': 0, '_environment': 'local', '_is_chief': True, '_evaluation_master': '', '_tf_config': gpu_options {\n",
      "  per_process_gpu_memory_fraction: 1.0\n",
      "}\n",
      ", '_tf_random_seed': None, '_save_summary_steps': 100, '_save_checkpoints_secs': 600, '_log_step_count_steps': 100, '_session_config': None, '_save_checkpoints_steps': None, '_keep_checkpoint_max': 5, '_keep_checkpoint_every_n_hours': 10000, '_model_dir': '/var/folders/qk/0vhw5p4n2610vyrs2zqjmj2h0000gn/T/tmp3tcjyar3'}\n",
      "WARNING:tensorflow:From <ipython-input-268-243d79292383>:15: calling BaseEstimator.fit (from tensorflow.contrib.learn.python.learn.estimators.estimator) with x is deprecated and will be removed after 2016-12-01.\n",
      "Instructions for updating:\n",
      "Estimator is decoupled from Scikit Learn interface by moving into\n",
      "separate class SKCompat. Arguments x, y and batch_size are only\n",
      "available in the SKCompat class, Estimator will only accept input_fn.\n",
      "Example conversion:\n",
      "  est = Estimator(...) -> est = SKCompat(Estimator(...))\n",
      "WARNING:tensorflow:From <ipython-input-268-243d79292383>:15: calling BaseEstimator.fit (from tensorflow.contrib.learn.python.learn.estimators.estimator) with y is deprecated and will be removed after 2016-12-01.\n",
      "Instructions for updating:\n",
      "Estimator is decoupled from Scikit Learn interface by moving into\n",
      "separate class SKCompat. Arguments x, y and batch_size are only\n",
      "available in the SKCompat class, Estimator will only accept input_fn.\n",
      "Example conversion:\n",
      "  est = Estimator(...) -> est = SKCompat(Estimator(...))\n",
      "WARNING:tensorflow:From <ipython-input-268-243d79292383>:15: calling BaseEstimator.fit (from tensorflow.contrib.learn.python.learn.estimators.estimator) with batch_size is deprecated and will be removed after 2016-12-01.\n",
      "Instructions for updating:\n",
      "Estimator is decoupled from Scikit Learn interface by moving into\n",
      "separate class SKCompat. Arguments x, y and batch_size are only\n",
      "available in the SKCompat class, Estimator will only accept input_fn.\n",
      "Example conversion:\n",
      "  est = Estimator(...) -> est = SKCompat(Estimator(...))\n",
      "WARNING:tensorflow:From /Library/Frameworks/Python.framework/Versions/3.6/lib/python3.6/site-packages/tensorflow/contrib/learn/python/learn/estimators/estimator.py:494: SKCompat.__init__ (from tensorflow.contrib.learn.python.learn.estimators.estimator) is deprecated and will be removed in a future version.\n",
      "Instructions for updating:\n",
      "Please switch to the Estimator interface.\n",
      "WARNING:tensorflow:From /Library/Frameworks/Python.framework/Versions/3.6/lib/python3.6/site-packages/tensorflow/contrib/learn/python/learn/learn_io/data_feeder.py:102: extract_pandas_labels (from tensorflow.contrib.learn.python.learn.learn_io.pandas_io) is deprecated and will be removed in a future version.\n",
      "Instructions for updating:\n",
      "Please access pandas data directly.\n",
      "WARNING:tensorflow:float64 is not supported by many models, consider casting to float32.\n",
      "WARNING:tensorflow:float64 is not supported by many models, consider casting to float32.\n",
      "WARNING:tensorflow:From /Library/Frameworks/Python.framework/Versions/3.6/lib/python3.6/site-packages/tensorflow/contrib/learn/python/learn/estimators/head.py:678: ModelFnOps.__new__ (from tensorflow.contrib.learn.python.learn.estimators.model_fn) is deprecated and will be removed in a future version.\n",
      "Instructions for updating:\n",
      "When switching to tf.estimator.Estimator, use tf.estimator.EstimatorSpec. You can use the `estimator_spec` method to create an equivalent one.\n",
      "INFO:tensorflow:Create CheckpointSaverHook.\n",
      "INFO:tensorflow:Graph was finalized.\n",
      "INFO:tensorflow:Running local_init_op.\n",
      "INFO:tensorflow:Done running local_init_op.\n",
      "INFO:tensorflow:Saving checkpoints for 1 into /var/folders/qk/0vhw5p4n2610vyrs2zqjmj2h0000gn/T/tmp3tcjyar3/model.ckpt.\n",
      "INFO:tensorflow:loss = 3347.1082, step = 1\n",
      "INFO:tensorflow:global_step/sec: 216.849\n",
      "INFO:tensorflow:loss = 113.20127, step = 101 (0.462 sec)\n",
      "INFO:tensorflow:global_step/sec: 270.251\n",
      "INFO:tensorflow:loss = 92.01842, step = 201 (0.370 sec)\n",
      "INFO:tensorflow:global_step/sec: 270.065\n"
     ]
    },
    {
     "name": "stdout",
     "output_type": "stream",
     "text": [
      "INFO:tensorflow:loss = 74.12538, step = 301 (0.370 sec)\n",
      "INFO:tensorflow:global_step/sec: 260.795\n",
      "INFO:tensorflow:loss = 91.90328, step = 401 (0.384 sec)\n",
      "INFO:tensorflow:global_step/sec: 250.473\n",
      "INFO:tensorflow:loss = 81.04874, step = 501 (0.399 sec)\n",
      "INFO:tensorflow:global_step/sec: 255.345\n",
      "INFO:tensorflow:loss = 73.92787, step = 601 (0.391 sec)\n",
      "INFO:tensorflow:global_step/sec: 255.864\n",
      "INFO:tensorflow:loss = 65.6759, step = 701 (0.391 sec)\n",
      "INFO:tensorflow:global_step/sec: 273.082\n",
      "INFO:tensorflow:loss = 55.675564, step = 801 (0.366 sec)\n",
      "INFO:tensorflow:global_step/sec: 271.676\n",
      "INFO:tensorflow:loss = 52.914978, step = 901 (0.369 sec)\n",
      "INFO:tensorflow:global_step/sec: 272.334\n",
      "INFO:tensorflow:loss = 73.475006, step = 1001 (0.367 sec)\n",
      "INFO:tensorflow:global_step/sec: 287.068\n",
      "INFO:tensorflow:loss = 64.76602, step = 1101 (0.349 sec)\n",
      "INFO:tensorflow:global_step/sec: 285.768\n",
      "INFO:tensorflow:loss = 57.06091, step = 1201 (0.350 sec)\n",
      "INFO:tensorflow:global_step/sec: 269.751\n",
      "INFO:tensorflow:loss = 56.55959, step = 1301 (0.371 sec)\n",
      "INFO:tensorflow:global_step/sec: 275.794\n",
      "INFO:tensorflow:loss = 59.50905, step = 1401 (0.362 sec)\n",
      "INFO:tensorflow:global_step/sec: 266.042\n",
      "INFO:tensorflow:loss = 65.77248, step = 1501 (0.376 sec)\n",
      "INFO:tensorflow:global_step/sec: 274.219\n",
      "INFO:tensorflow:loss = 58.81254, step = 1601 (0.365 sec)\n",
      "INFO:tensorflow:global_step/sec: 277.157\n",
      "INFO:tensorflow:loss = 50.749123, step = 1701 (0.361 sec)\n",
      "INFO:tensorflow:global_step/sec: 271.483\n",
      "INFO:tensorflow:loss = 48.91452, step = 1801 (0.368 sec)\n",
      "INFO:tensorflow:global_step/sec: 252.826\n",
      "INFO:tensorflow:loss = 51.177822, step = 1901 (0.396 sec)\n",
      "INFO:tensorflow:global_step/sec: 271.558\n",
      "INFO:tensorflow:loss = 52.84541, step = 2001 (0.368 sec)\n",
      "INFO:tensorflow:global_step/sec: 280.053\n",
      "INFO:tensorflow:loss = 46.16776, step = 2101 (0.357 sec)\n",
      "INFO:tensorflow:global_step/sec: 288.184\n",
      "INFO:tensorflow:loss = 54.086365, step = 2201 (0.347 sec)\n",
      "INFO:tensorflow:global_step/sec: 285.059\n",
      "INFO:tensorflow:loss = 45.82448, step = 2301 (0.351 sec)\n",
      "INFO:tensorflow:global_step/sec: 285.834\n",
      "INFO:tensorflow:loss = 40.592796, step = 2401 (0.350 sec)\n",
      "INFO:tensorflow:global_step/sec: 276.03\n",
      "INFO:tensorflow:loss = 50.003685, step = 2501 (0.362 sec)\n",
      "INFO:tensorflow:global_step/sec: 267.682\n",
      "INFO:tensorflow:loss = 33.117912, step = 2601 (0.374 sec)\n",
      "INFO:tensorflow:global_step/sec: 282.878\n",
      "INFO:tensorflow:loss = 38.8116, step = 2701 (0.354 sec)\n",
      "INFO:tensorflow:global_step/sec: 288.037\n",
      "INFO:tensorflow:loss = 41.29413, step = 2801 (0.347 sec)\n",
      "INFO:tensorflow:global_step/sec: 281.917\n",
      "INFO:tensorflow:loss = 43.21476, step = 2901 (0.355 sec)\n",
      "INFO:tensorflow:global_step/sec: 282.82\n",
      "INFO:tensorflow:loss = 44.247017, step = 3001 (0.353 sec)\n",
      "INFO:tensorflow:global_step/sec: 288.306\n",
      "INFO:tensorflow:loss = 41.673798, step = 3101 (0.347 sec)\n",
      "INFO:tensorflow:global_step/sec: 286.072\n",
      "INFO:tensorflow:loss = 40.962097, step = 3201 (0.350 sec)\n",
      "INFO:tensorflow:global_step/sec: 280.525\n",
      "INFO:tensorflow:loss = 42.485046, step = 3301 (0.357 sec)\n",
      "INFO:tensorflow:global_step/sec: 277.944\n",
      "INFO:tensorflow:loss = 36.27256, step = 3401 (0.360 sec)\n",
      "INFO:tensorflow:global_step/sec: 280.441\n",
      "INFO:tensorflow:loss = 34.95026, step = 3501 (0.356 sec)\n",
      "INFO:tensorflow:global_step/sec: 283.071\n",
      "INFO:tensorflow:loss = 39.81087, step = 3601 (0.354 sec)\n",
      "INFO:tensorflow:global_step/sec: 274.993\n",
      "INFO:tensorflow:loss = 41.010223, step = 3701 (0.364 sec)\n",
      "INFO:tensorflow:global_step/sec: 269.231\n",
      "INFO:tensorflow:loss = 40.02631, step = 3801 (0.370 sec)\n",
      "INFO:tensorflow:global_step/sec: 279.87\n",
      "INFO:tensorflow:loss = 39.39241, step = 3901 (0.358 sec)\n",
      "INFO:tensorflow:global_step/sec: 275.736\n",
      "INFO:tensorflow:loss = 38.788116, step = 4001 (0.363 sec)\n",
      "INFO:tensorflow:global_step/sec: 275.046\n",
      "INFO:tensorflow:loss = 27.801674, step = 4101 (0.363 sec)\n",
      "INFO:tensorflow:global_step/sec: 261.571\n",
      "INFO:tensorflow:loss = 31.3968, step = 4201 (0.382 sec)\n",
      "INFO:tensorflow:global_step/sec: 275.65\n",
      "INFO:tensorflow:loss = 30.380795, step = 4301 (0.363 sec)\n",
      "INFO:tensorflow:global_step/sec: 284.929\n",
      "INFO:tensorflow:loss = 38.865246, step = 4401 (0.351 sec)\n",
      "INFO:tensorflow:global_step/sec: 286.6\n",
      "INFO:tensorflow:loss = 34.26932, step = 4501 (0.349 sec)\n",
      "INFO:tensorflow:global_step/sec: 285.189\n",
      "INFO:tensorflow:loss = 35.08564, step = 4601 (0.350 sec)\n",
      "INFO:tensorflow:global_step/sec: 286.79\n",
      "INFO:tensorflow:loss = 36.307823, step = 4701 (0.349 sec)\n",
      "INFO:tensorflow:global_step/sec: 254.375\n",
      "INFO:tensorflow:loss = 28.76066, step = 4801 (0.393 sec)\n",
      "INFO:tensorflow:global_step/sec: 282.263\n",
      "INFO:tensorflow:loss = 34.332043, step = 4901 (0.354 sec)\n",
      "INFO:tensorflow:global_step/sec: 284.936\n",
      "INFO:tensorflow:loss = 30.923832, step = 5001 (0.351 sec)\n",
      "INFO:tensorflow:global_step/sec: 283.758\n",
      "INFO:tensorflow:loss = 31.19408, step = 5101 (0.352 sec)\n",
      "INFO:tensorflow:global_step/sec: 279.332\n",
      "INFO:tensorflow:loss = 33.404987, step = 5201 (0.358 sec)\n",
      "INFO:tensorflow:global_step/sec: 280.601\n",
      "INFO:tensorflow:loss = 31.915854, step = 5301 (0.356 sec)\n",
      "INFO:tensorflow:global_step/sec: 265.012\n",
      "INFO:tensorflow:loss = 26.606365, step = 5401 (0.377 sec)\n",
      "INFO:tensorflow:global_step/sec: 274.022\n",
      "INFO:tensorflow:loss = 27.830109, step = 5501 (0.364 sec)\n",
      "INFO:tensorflow:global_step/sec: 282.037\n",
      "INFO:tensorflow:loss = 30.268879, step = 5601 (0.355 sec)\n",
      "INFO:tensorflow:global_step/sec: 283.58\n",
      "INFO:tensorflow:loss = 33.39937, step = 5701 (0.352 sec)\n",
      "INFO:tensorflow:global_step/sec: 262.55\n",
      "INFO:tensorflow:loss = 28.35336, step = 5801 (0.381 sec)\n",
      "INFO:tensorflow:global_step/sec: 274.102\n",
      "INFO:tensorflow:loss = 30.787224, step = 5901 (0.365 sec)\n",
      "INFO:tensorflow:global_step/sec: 275.551\n",
      "INFO:tensorflow:loss = 33.173164, step = 6001 (0.363 sec)\n",
      "INFO:tensorflow:global_step/sec: 273.897\n",
      "INFO:tensorflow:loss = 27.031038, step = 6101 (0.365 sec)\n",
      "INFO:tensorflow:global_step/sec: 278.117\n",
      "INFO:tensorflow:loss = 20.57115, step = 6201 (0.359 sec)\n",
      "INFO:tensorflow:global_step/sec: 269.044\n",
      "INFO:tensorflow:loss = 26.140736, step = 6301 (0.372 sec)\n",
      "INFO:tensorflow:global_step/sec: 269.567\n",
      "INFO:tensorflow:loss = 17.690779, step = 6401 (0.371 sec)\n",
      "INFO:tensorflow:global_step/sec: 279.184\n",
      "INFO:tensorflow:loss = 25.263031, step = 6501 (0.358 sec)\n",
      "INFO:tensorflow:global_step/sec: 271.49\n",
      "INFO:tensorflow:loss = 30.585184, step = 6601 (0.368 sec)\n",
      "INFO:tensorflow:global_step/sec: 277.615\n",
      "INFO:tensorflow:loss = 16.350601, step = 6701 (0.360 sec)\n",
      "INFO:tensorflow:global_step/sec: 279.005\n",
      "INFO:tensorflow:loss = 26.944263, step = 6801 (0.359 sec)\n",
      "INFO:tensorflow:global_step/sec: 278.162\n",
      "INFO:tensorflow:loss = 28.247183, step = 6901 (0.359 sec)\n",
      "INFO:tensorflow:global_step/sec: 276.631\n",
      "INFO:tensorflow:loss = 24.625282, step = 7001 (0.361 sec)\n",
      "INFO:tensorflow:global_step/sec: 276.202\n",
      "INFO:tensorflow:loss = 21.364918, step = 7101 (0.362 sec)\n",
      "INFO:tensorflow:global_step/sec: 271.482\n",
      "INFO:tensorflow:loss = 27.555876, step = 7201 (0.368 sec)\n",
      "INFO:tensorflow:global_step/sec: 279.716\n",
      "INFO:tensorflow:loss = 23.394434, step = 7301 (0.358 sec)\n",
      "INFO:tensorflow:global_step/sec: 269.477\n",
      "INFO:tensorflow:loss = 25.47821, step = 7401 (0.371 sec)\n",
      "INFO:tensorflow:global_step/sec: 265.356\n",
      "INFO:tensorflow:loss = 20.796967, step = 7501 (0.377 sec)\n",
      "INFO:tensorflow:global_step/sec: 274.832\n",
      "INFO:tensorflow:loss = 33.2267, step = 7601 (0.364 sec)\n",
      "INFO:tensorflow:global_step/sec: 237.021\n",
      "INFO:tensorflow:loss = 26.091228, step = 7701 (0.422 sec)\n",
      "INFO:tensorflow:global_step/sec: 274.066\n",
      "INFO:tensorflow:loss = 22.738592, step = 7801 (0.365 sec)\n",
      "INFO:tensorflow:global_step/sec: 284.364\n",
      "INFO:tensorflow:loss = 15.493679, step = 7901 (0.352 sec)\n",
      "INFO:tensorflow:Saving checkpoints for 8000 into /var/folders/qk/0vhw5p4n2610vyrs2zqjmj2h0000gn/T/tmp3tcjyar3/model.ckpt.\n",
      "INFO:tensorflow:Loss for final step: 22.869072.\n"
     ]
    },
    {
     "data": {
      "text/plain": [
       "DNNRegressor(params={'head': <tensorflow.contrib.learn.python.learn.estimators.head._RegressionHead object at 0x1241eb080>, 'hidden_units': [50, 20], 'feature_columns': (_RealValuedColumn(column_name='', dimension=4, default_value=None, dtype=tf.float64, normalizer=None),), 'optimizer': <tensorflow.python.training.adam.AdamOptimizer object at 0x1162bb710>, 'activation_fn': <function leaky_relu at 0x1210b2c80>, 'dropout': None, 'gradient_clip_norm': None, 'embedding_lr_multipliers': None, 'input_layer_min_slice_size': None})"
      ]
     },
     "execution_count": 268,
     "metadata": {},
     "output_type": "execute_result"
    }
   ],
   "source": [
    "from tensorflow.contrib import learn\n",
    "import tensorflow as tf\n",
    "\n",
    "# Stacking multiple regressors using DNN\n",
    "features_blend = learn.infer_real_valued_columns_from_input(stack[['rf','gbr','ada','bagging']])\n",
    "\n",
    "# Optimizer algorithm\n",
    "adam = tf.train.AdamOptimizer(learning_rate=0.001)\n",
    "\n",
    "# Build multi-layer DNN for regression\n",
    "blend_nn = learn.DNNRegressor(feature_columns=features_blend, hidden_units=[50, 20], \n",
    "                              optimizer=adam, activation_fn=tf.nn.leaky_relu)\n",
    "#                               config=learn.estimators.RunConfig(num_cores=8))\n",
    "# Fit DNN\n",
    "blend_nn.fit(x=stack[['rf','gbr','ada','bagging']], y=stack['true'], steps=8000, batch_size=256)"
   ]
  },
  {
   "cell_type": "code",
   "execution_count": 270,
   "metadata": {},
   "outputs": [],
   "source": [
    "# PREDICT: RF for Regression\n",
    "y_test_rf = estimator_rf.predict(X_test).flatten().tolist()\n",
    "\n",
    "# PREDICT: GBR \n",
    "y_test_gbr = estimator_gbr.predict(X_test).flatten().tolist()\n",
    "\n",
    "# PREDICT: ADA\n",
    "y_test_ada = estimator_ada.predict(X_test).flatten().tolist()\n",
    "\n",
    "# PREDICT: BAGGING\n",
    "y_test_bagging = estimator_bagging.predict(X_test).flatten().tolist()\n",
    "\n"
   ]
  },
  {
   "cell_type": "code",
   "execution_count": 271,
   "metadata": {},
   "outputs": [],
   "source": [
    "new_stack = pd.DataFrame(data={'rf':y_test_rf, 'gbr':y_test_gbr,\n",
    "                               'ada':y_test_ada,'bagging': y_test_bagging,\n",
    "                               'true':y_test})"
   ]
  },
  {
   "cell_type": "code",
   "execution_count": 272,
   "metadata": {},
   "outputs": [
    {
     "name": "stdout",
     "output_type": "stream",
     "text": [
      "WARNING:tensorflow:From /Library/Frameworks/Python.framework/Versions/3.6/lib/python3.6/site-packages/tensorflow/python/util/deprecation.py:497: calling DNNRegressor.predict (from tensorflow.contrib.learn.python.learn.estimators.dnn) with outputs=None is deprecated and will be removed after 2017-03-01.\n",
      "Instructions for updating:\n",
      "Please switch to predict_scores, or set `outputs` argument.\n",
      "WARNING:tensorflow:From /Library/Frameworks/Python.framework/Versions/3.6/lib/python3.6/site-packages/tensorflow/contrib/learn/python/learn/estimators/dnn.py:779: calling BaseEstimator.predict (from tensorflow.contrib.learn.python.learn.estimators.estimator) with x is deprecated and will be removed after 2016-12-01.\n",
      "Instructions for updating:\n",
      "Estimator is decoupled from Scikit Learn interface by moving into\n",
      "separate class SKCompat. Arguments x, y and batch_size are only\n",
      "available in the SKCompat class, Estimator will only accept input_fn.\n",
      "Example conversion:\n",
      "  est = Estimator(...) -> est = SKCompat(Estimator(...))\n",
      "WARNING:tensorflow:float64 is not supported by many models, consider casting to float32.\n",
      "INFO:tensorflow:Graph was finalized.\n",
      "INFO:tensorflow:Restoring parameters from /var/folders/qk/0vhw5p4n2610vyrs2zqjmj2h0000gn/T/tmp3tcjyar3/model.ckpt-8000\n",
      "INFO:tensorflow:Running local_init_op.\n",
      "INFO:tensorflow:Done running local_init_op.\n"
     ]
    }
   ],
   "source": [
    "y_new_bl = list(blend_nn.predict(new_stack[['rf', 'gbr', 'ada','bagging']]))"
   ]
  },
  {
   "cell_type": "code",
   "execution_count": 275,
   "metadata": {},
   "outputs": [],
   "source": [
    "model_predictions_ensemble = convertToPrediction(y_for_calculations,y_new_bl)"
   ]
  },
  {
   "cell_type": "code",
   "execution_count": 276,
   "metadata": {},
   "outputs": [
    {
     "name": "stdout",
     "output_type": "stream",
     "text": [
      "1607746.0\n"
     ]
    }
   ],
   "source": [
    "w = [1, 1, 1, 1]  # weights\n",
    "pred_agg = np.c_[pred_rf,pred_gbr,pred_ada,pred_bagging]\n",
    "pred_avr = np.average(pred_agg, axis=1, weights=w)\n",
    "model_predictions_avr = convertToPrediction(y_for_calculations,pred_avr)\n",
    "print(profit(actual_predictions,model_predictions_avr).sum())"
   ]
  },
  {
   "cell_type": "code",
   "execution_count": 277,
   "metadata": {},
   "outputs": [
    {
     "name": "stdout",
     "output_type": "stream",
     "text": [
      "RMSLE Value:  0.44466405787899516\n"
     ]
    }
   ],
   "source": [
    "print (\"RMSLE Value: \",rmsle(actual_predictions,model_predictions_avr))"
   ]
  },
  {
   "cell_type": "code",
   "execution_count": 294,
   "metadata": {},
   "outputs": [
    {
     "name": "stdout",
     "output_type": "stream",
     "text": [
      "cost is:3658010.0\n",
      "profit is:1607746.0\n",
      "profit percentage is:43.95138340245106\n"
     ]
    }
   ],
   "source": [
    "print(\"cost is:\" + str(cost(model_predictions_avr,2).sum()) )\n",
    "print(\"profit is:\" + str(profit(actual_predictions,model_predictions_avr).sum()))\n",
    "print(\"profit percentage is:\" + str(profit_percentage(actual_predictions,model_predictions_avr, 3, 2)))"
   ]
  },
  {
   "cell_type": "code",
   "execution_count": 297,
   "metadata": {},
   "outputs": [],
   "source": [
    "### Alternate cost model"
   ]
  },
  {
   "cell_type": "code",
   "execution_count": 300,
   "metadata": {},
   "outputs": [
    {
     "name": "stdout",
     "output_type": "stream",
     "text": [
      "cost is:3849350.0\n",
      "profit is:90282.40000000033\n",
      "profit percentage is:2.345393378102805\n"
     ]
    }
   ],
   "source": [
    "print(\"cost is:\" + str(cost(model_predictions_ada,2).sum()) )\n",
    "print(\"profit is:\" + str(profit(actual_predictions,model_predictions_ada,revenue = 2.2).sum()))\n",
    "print(\"profit percentage is:\" + str(profit_percentage(actual_predictions,model_predictions_ada, 2.2, 2)))"
   ]
  }
 ],
 "metadata": {
  "kernelspec": {
   "display_name": "Python 3",
   "language": "python",
   "name": "python3"
  },
  "language_info": {
   "codemirror_mode": {
    "name": "ipython",
    "version": 3
   },
   "file_extension": ".py",
   "mimetype": "text/x-python",
   "name": "python",
   "nbconvert_exporter": "python",
   "pygments_lexer": "ipython3",
   "version": "3.6.5"
  }
 },
 "nbformat": 4,
 "nbformat_minor": 1
}
