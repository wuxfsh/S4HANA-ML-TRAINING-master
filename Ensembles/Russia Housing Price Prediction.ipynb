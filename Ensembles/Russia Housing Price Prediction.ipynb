{
 "cells": [
  {
   "cell_type": "markdown",
   "metadata": {},
   "source": [
    "##### Load the Required Libraries "
   ]
  },
  {
   "cell_type": "code",
   "execution_count": 1,
   "metadata": {},
   "outputs": [
    {
     "name": "stderr",
     "output_type": "stream",
     "text": [
      "/Users/i033085/anaconda2/lib/python2.7/site-packages/h5py/__init__.py:34: FutureWarning: Conversion of the second argument of issubdtype from `float` to `np.floating` is deprecated. In future, it will be treated as `np.float64 == np.dtype(float).type`.\n",
      "  from ._conv import register_converters as _register_converters\n"
     ]
    },
    {
     "name": "stdout",
     "output_type": "stream",
     "text": [
      "WARNING:tensorflow:From /Users/i033085/anaconda2/lib/python2.7/site-packages/tensorflow/contrib/learn/python/learn/datasets/base.py:198: retry (from tensorflow.contrib.learn.python.learn.datasets.base) is deprecated and will be removed in a future version.\n",
      "Instructions for updating:\n",
      "Use the retry module or similar alternatives.\n"
     ]
    }
   ],
   "source": [
    "from tensorflow.contrib import learn\n",
    "import tensorflow as tf"
   ]
  },
  {
   "cell_type": "code",
   "execution_count": 2,
   "metadata": {
    "collapsed": true
   },
   "outputs": [],
   "source": [
    "from sklearn import linear_model\n",
    "from sklearn import metrics"
   ]
  },
  {
   "cell_type": "code",
   "execution_count": 3,
   "metadata": {
    "collapsed": true
   },
   "outputs": [],
   "source": [
    "import numpy as np \n",
    "import pandas as pd \n",
    "import scipy"
   ]
  },
  {
   "cell_type": "code",
   "execution_count": 4,
   "metadata": {
    "collapsed": true
   },
   "outputs": [],
   "source": [
    "import matplotlib.pyplot as plt\n",
    "import seaborn as sns\n",
    "%matplotlib inline\n",
    "\n",
    "from sklearn import model_selection, preprocessing\n",
    "import datetime"
   ]
  },
  {
   "cell_type": "code",
   "execution_count": 5,
   "metadata": {},
   "outputs": [
    {
     "name": "stderr",
     "output_type": "stream",
     "text": [
      "Using TensorFlow backend.\n"
     ]
    }
   ],
   "source": [
    "import keras as ks\n",
    "from keras.models import Sequential, load_model, Model\n",
    "from keras.preprocessing import sequence\n",
    "from keras.optimizers import SGD, RMSprop\n",
    "from keras.layers import Dense, Dropout, LSTM\n",
    "from keras.layers import Activation, Flatten, Input, BatchNormalization\n",
    "from keras.layers import Conv1D, MaxPooling1D, Conv2D, MaxPooling2D\n",
    "from keras.layers.embeddings import Embedding\n",
    "from keras.wrappers.scikit_learn import KerasRegressor"
   ]
  },
  {
   "cell_type": "code",
   "execution_count": 6,
   "metadata": {
    "collapsed": true
   },
   "outputs": [],
   "source": [
    "from sklearn.model_selection import train_test_split, ShuffleSplit\n",
    "from sklearn.model_selection import KFold, ParameterGrid, cross_val_score\n",
    "from sklearn.metrics import mean_squared_error, median_absolute_error, mean_absolute_error\n",
    "from sklearn.metrics import r2_score, explained_variance_score\n",
    "from sklearn.preprocessing import OneHotEncoder, RobustScaler\n",
    "from sklearn.pipeline import Pipeline\n",
    "from sklearn.neural_network import MLPRegressor"
   ]
  },
  {
   "cell_type": "markdown",
   "metadata": {},
   "source": [
    "##### Get a feel of the Data volumes"
   ]
  },
  {
   "cell_type": "code",
   "execution_count": 7,
   "metadata": {
    "collapsed": true
   },
   "outputs": [],
   "source": [
    "macro = pd.read_csv('data/macro.csv')\n",
    "train = pd.read_csv('data/train.csv')\n",
    "test = pd.read_csv('data/test.csv')"
   ]
  },
  {
   "cell_type": "code",
   "execution_count": 8,
   "metadata": {},
   "outputs": [
    {
     "data": {
      "text/plain": [
       "(2484, 100)"
      ]
     },
     "execution_count": 8,
     "metadata": {},
     "output_type": "execute_result"
    }
   ],
   "source": [
    "macro.shape"
   ]
  },
  {
   "cell_type": "code",
   "execution_count": 9,
   "metadata": {},
   "outputs": [
    {
     "data": {
      "text/plain": [
       "(30471, 292)"
      ]
     },
     "execution_count": 9,
     "metadata": {},
     "output_type": "execute_result"
    }
   ],
   "source": [
    "train.shape"
   ]
  },
  {
   "cell_type": "code",
   "execution_count": 10,
   "metadata": {},
   "outputs": [
    {
     "data": {
      "text/plain": [
       "(7662, 291)"
      ]
     },
     "execution_count": 10,
     "metadata": {},
     "output_type": "execute_result"
    }
   ],
   "source": [
    "test.shape"
   ]
  },
  {
   "cell_type": "code",
   "execution_count": 11,
   "metadata": {
    "collapsed": true
   },
   "outputs": [],
   "source": [
    "# Lets move on ignoring the Macro-Economic attributes ...and revisit later"
   ]
  },
  {
   "cell_type": "code",
   "execution_count": 12,
   "metadata": {},
   "outputs": [
    {
     "data": {
      "text/html": [
       "<div>\n",
       "<table border=\"1\" class=\"dataframe\">\n",
       "  <thead>\n",
       "    <tr style=\"text-align: right;\">\n",
       "      <th></th>\n",
       "      <th>id</th>\n",
       "      <th>full_sq</th>\n",
       "      <th>life_sq</th>\n",
       "      <th>floor</th>\n",
       "      <th>max_floor</th>\n",
       "      <th>material</th>\n",
       "      <th>build_year</th>\n",
       "      <th>num_room</th>\n",
       "      <th>kitch_sq</th>\n",
       "      <th>state</th>\n",
       "      <th>...</th>\n",
       "      <th>cafe_count_5000_price_2500</th>\n",
       "      <th>cafe_count_5000_price_4000</th>\n",
       "      <th>cafe_count_5000_price_high</th>\n",
       "      <th>big_church_count_5000</th>\n",
       "      <th>church_count_5000</th>\n",
       "      <th>mosque_count_5000</th>\n",
       "      <th>leisure_count_5000</th>\n",
       "      <th>sport_count_5000</th>\n",
       "      <th>market_count_5000</th>\n",
       "      <th>price_doc</th>\n",
       "    </tr>\n",
       "  </thead>\n",
       "  <tbody>\n",
       "    <tr>\n",
       "      <th>count</th>\n",
       "      <td>30471.000000</td>\n",
       "      <td>30471.000000</td>\n",
       "      <td>24088.000000</td>\n",
       "      <td>30304.000000</td>\n",
       "      <td>20899.000000</td>\n",
       "      <td>20899.000000</td>\n",
       "      <td>16866.000000</td>\n",
       "      <td>20899.000000</td>\n",
       "      <td>20899.000000</td>\n",
       "      <td>16912.000000</td>\n",
       "      <td>...</td>\n",
       "      <td>30471.000000</td>\n",
       "      <td>30471.000000</td>\n",
       "      <td>30471.000000</td>\n",
       "      <td>30471.000000</td>\n",
       "      <td>30471.000000</td>\n",
       "      <td>30471.000000</td>\n",
       "      <td>30471.000000</td>\n",
       "      <td>30471.000000</td>\n",
       "      <td>30471.000000</td>\n",
       "      <td>3.047100e+04</td>\n",
       "    </tr>\n",
       "    <tr>\n",
       "      <th>mean</th>\n",
       "      <td>15237.917397</td>\n",
       "      <td>54.214269</td>\n",
       "      <td>34.403271</td>\n",
       "      <td>7.670803</td>\n",
       "      <td>12.558974</td>\n",
       "      <td>1.827121</td>\n",
       "      <td>3068.057097</td>\n",
       "      <td>1.909804</td>\n",
       "      <td>6.399301</td>\n",
       "      <td>2.107025</td>\n",
       "      <td>...</td>\n",
       "      <td>32.058318</td>\n",
       "      <td>10.783860</td>\n",
       "      <td>1.771783</td>\n",
       "      <td>15.045552</td>\n",
       "      <td>30.251518</td>\n",
       "      <td>0.442421</td>\n",
       "      <td>8.648814</td>\n",
       "      <td>52.796593</td>\n",
       "      <td>5.987070</td>\n",
       "      <td>7.123035e+06</td>\n",
       "    </tr>\n",
       "    <tr>\n",
       "      <th>std</th>\n",
       "      <td>8796.501536</td>\n",
       "      <td>38.031487</td>\n",
       "      <td>52.285733</td>\n",
       "      <td>5.319989</td>\n",
       "      <td>6.756550</td>\n",
       "      <td>1.481154</td>\n",
       "      <td>154387.795637</td>\n",
       "      <td>0.851805</td>\n",
       "      <td>28.265979</td>\n",
       "      <td>0.880148</td>\n",
       "      <td>...</td>\n",
       "      <td>73.465611</td>\n",
       "      <td>28.385679</td>\n",
       "      <td>5.418807</td>\n",
       "      <td>29.118668</td>\n",
       "      <td>47.347938</td>\n",
       "      <td>0.609269</td>\n",
       "      <td>20.580741</td>\n",
       "      <td>46.292660</td>\n",
       "      <td>4.889219</td>\n",
       "      <td>4.780111e+06</td>\n",
       "    </tr>\n",
       "    <tr>\n",
       "      <th>min</th>\n",
       "      <td>1.000000</td>\n",
       "      <td>0.000000</td>\n",
       "      <td>0.000000</td>\n",
       "      <td>0.000000</td>\n",
       "      <td>0.000000</td>\n",
       "      <td>1.000000</td>\n",
       "      <td>0.000000</td>\n",
       "      <td>0.000000</td>\n",
       "      <td>0.000000</td>\n",
       "      <td>1.000000</td>\n",
       "      <td>...</td>\n",
       "      <td>0.000000</td>\n",
       "      <td>0.000000</td>\n",
       "      <td>0.000000</td>\n",
       "      <td>0.000000</td>\n",
       "      <td>0.000000</td>\n",
       "      <td>0.000000</td>\n",
       "      <td>0.000000</td>\n",
       "      <td>0.000000</td>\n",
       "      <td>0.000000</td>\n",
       "      <td>1.000000e+05</td>\n",
       "    </tr>\n",
       "    <tr>\n",
       "      <th>25%</th>\n",
       "      <td>7620.500000</td>\n",
       "      <td>38.000000</td>\n",
       "      <td>20.000000</td>\n",
       "      <td>3.000000</td>\n",
       "      <td>9.000000</td>\n",
       "      <td>1.000000</td>\n",
       "      <td>1967.000000</td>\n",
       "      <td>1.000000</td>\n",
       "      <td>1.000000</td>\n",
       "      <td>1.000000</td>\n",
       "      <td>...</td>\n",
       "      <td>2.000000</td>\n",
       "      <td>1.000000</td>\n",
       "      <td>0.000000</td>\n",
       "      <td>2.000000</td>\n",
       "      <td>9.000000</td>\n",
       "      <td>0.000000</td>\n",
       "      <td>0.000000</td>\n",
       "      <td>11.000000</td>\n",
       "      <td>1.000000</td>\n",
       "      <td>4.740002e+06</td>\n",
       "    </tr>\n",
       "    <tr>\n",
       "      <th>50%</th>\n",
       "      <td>15238.000000</td>\n",
       "      <td>49.000000</td>\n",
       "      <td>30.000000</td>\n",
       "      <td>6.500000</td>\n",
       "      <td>12.000000</td>\n",
       "      <td>1.000000</td>\n",
       "      <td>1979.000000</td>\n",
       "      <td>2.000000</td>\n",
       "      <td>6.000000</td>\n",
       "      <td>2.000000</td>\n",
       "      <td>...</td>\n",
       "      <td>8.000000</td>\n",
       "      <td>2.000000</td>\n",
       "      <td>0.000000</td>\n",
       "      <td>7.000000</td>\n",
       "      <td>16.000000</td>\n",
       "      <td>0.000000</td>\n",
       "      <td>2.000000</td>\n",
       "      <td>48.000000</td>\n",
       "      <td>5.000000</td>\n",
       "      <td>6.274411e+06</td>\n",
       "    </tr>\n",
       "    <tr>\n",
       "      <th>75%</th>\n",
       "      <td>22855.500000</td>\n",
       "      <td>63.000000</td>\n",
       "      <td>43.000000</td>\n",
       "      <td>11.000000</td>\n",
       "      <td>17.000000</td>\n",
       "      <td>2.000000</td>\n",
       "      <td>2005.000000</td>\n",
       "      <td>2.000000</td>\n",
       "      <td>9.000000</td>\n",
       "      <td>3.000000</td>\n",
       "      <td>...</td>\n",
       "      <td>21.000000</td>\n",
       "      <td>5.000000</td>\n",
       "      <td>1.000000</td>\n",
       "      <td>12.000000</td>\n",
       "      <td>28.000000</td>\n",
       "      <td>1.000000</td>\n",
       "      <td>7.000000</td>\n",
       "      <td>76.000000</td>\n",
       "      <td>10.000000</td>\n",
       "      <td>8.300000e+06</td>\n",
       "    </tr>\n",
       "    <tr>\n",
       "      <th>max</th>\n",
       "      <td>30473.000000</td>\n",
       "      <td>5326.000000</td>\n",
       "      <td>7478.000000</td>\n",
       "      <td>77.000000</td>\n",
       "      <td>117.000000</td>\n",
       "      <td>6.000000</td>\n",
       "      <td>20052009.000000</td>\n",
       "      <td>19.000000</td>\n",
       "      <td>2014.000000</td>\n",
       "      <td>33.000000</td>\n",
       "      <td>...</td>\n",
       "      <td>377.000000</td>\n",
       "      <td>147.000000</td>\n",
       "      <td>30.000000</td>\n",
       "      <td>151.000000</td>\n",
       "      <td>250.000000</td>\n",
       "      <td>2.000000</td>\n",
       "      <td>106.000000</td>\n",
       "      <td>218.000000</td>\n",
       "      <td>21.000000</td>\n",
       "      <td>1.111111e+08</td>\n",
       "    </tr>\n",
       "  </tbody>\n",
       "</table>\n",
       "<p>8 rows × 276 columns</p>\n",
       "</div>"
      ],
      "text/plain": [
       "                 id       full_sq       life_sq         floor     max_floor  \\\n",
       "count  30471.000000  30471.000000  24088.000000  30304.000000  20899.000000   \n",
       "mean   15237.917397     54.214269     34.403271      7.670803     12.558974   \n",
       "std     8796.501536     38.031487     52.285733      5.319989      6.756550   \n",
       "min        1.000000      0.000000      0.000000      0.000000      0.000000   \n",
       "25%     7620.500000     38.000000     20.000000      3.000000      9.000000   \n",
       "50%    15238.000000     49.000000     30.000000      6.500000     12.000000   \n",
       "75%    22855.500000     63.000000     43.000000     11.000000     17.000000   \n",
       "max    30473.000000   5326.000000   7478.000000     77.000000    117.000000   \n",
       "\n",
       "           material       build_year      num_room      kitch_sq  \\\n",
       "count  20899.000000     16866.000000  20899.000000  20899.000000   \n",
       "mean       1.827121      3068.057097      1.909804      6.399301   \n",
       "std        1.481154    154387.795637      0.851805     28.265979   \n",
       "min        1.000000         0.000000      0.000000      0.000000   \n",
       "25%        1.000000      1967.000000      1.000000      1.000000   \n",
       "50%        1.000000      1979.000000      2.000000      6.000000   \n",
       "75%        2.000000      2005.000000      2.000000      9.000000   \n",
       "max        6.000000  20052009.000000     19.000000   2014.000000   \n",
       "\n",
       "              state      ...       cafe_count_5000_price_2500  \\\n",
       "count  16912.000000      ...                     30471.000000   \n",
       "mean       2.107025      ...                        32.058318   \n",
       "std        0.880148      ...                        73.465611   \n",
       "min        1.000000      ...                         0.000000   \n",
       "25%        1.000000      ...                         2.000000   \n",
       "50%        2.000000      ...                         8.000000   \n",
       "75%        3.000000      ...                        21.000000   \n",
       "max       33.000000      ...                       377.000000   \n",
       "\n",
       "       cafe_count_5000_price_4000  cafe_count_5000_price_high  \\\n",
       "count                30471.000000                30471.000000   \n",
       "mean                    10.783860                    1.771783   \n",
       "std                     28.385679                    5.418807   \n",
       "min                      0.000000                    0.000000   \n",
       "25%                      1.000000                    0.000000   \n",
       "50%                      2.000000                    0.000000   \n",
       "75%                      5.000000                    1.000000   \n",
       "max                    147.000000                   30.000000   \n",
       "\n",
       "       big_church_count_5000  church_count_5000  mosque_count_5000  \\\n",
       "count           30471.000000       30471.000000       30471.000000   \n",
       "mean               15.045552          30.251518           0.442421   \n",
       "std                29.118668          47.347938           0.609269   \n",
       "min                 0.000000           0.000000           0.000000   \n",
       "25%                 2.000000           9.000000           0.000000   \n",
       "50%                 7.000000          16.000000           0.000000   \n",
       "75%                12.000000          28.000000           1.000000   \n",
       "max               151.000000         250.000000           2.000000   \n",
       "\n",
       "       leisure_count_5000  sport_count_5000  market_count_5000     price_doc  \n",
       "count        30471.000000      30471.000000       30471.000000  3.047100e+04  \n",
       "mean             8.648814         52.796593           5.987070  7.123035e+06  \n",
       "std             20.580741         46.292660           4.889219  4.780111e+06  \n",
       "min              0.000000          0.000000           0.000000  1.000000e+05  \n",
       "25%              0.000000         11.000000           1.000000  4.740002e+06  \n",
       "50%              2.000000         48.000000           5.000000  6.274411e+06  \n",
       "75%              7.000000         76.000000          10.000000  8.300000e+06  \n",
       "max            106.000000        218.000000          21.000000  1.111111e+08  \n",
       "\n",
       "[8 rows x 276 columns]"
      ]
     },
     "execution_count": 12,
     "metadata": {},
     "output_type": "execute_result"
    }
   ],
   "source": [
    "train.describe()"
   ]
  },
  {
   "cell_type": "markdown",
   "metadata": {},
   "source": [
    "##### Data pre-processing .... "
   ]
  },
  {
   "cell_type": "code",
   "execution_count": 13,
   "metadata": {},
   "outputs": [
    {
     "data": {
      "image/png": "[encoded data removed]",
      "text/plain": [
       "<matplotlib.figure.Figure at 0x10dd187d0>"
      ]
     },
     "metadata": {},
     "output_type": "display_data"
    }
   ],
   "source": [
    "plt.figure(figsize=(8,6))\n",
    "plt.scatter(range(train.shape[0]), np.sort(train.price_doc.values))\n",
    "plt.xlabel('index', fontsize=12)\n",
    "plt.ylabel('price', fontsize=12)\n",
    "plt.show()"
   ]
  },
  {
   "cell_type": "code",
   "execution_count": 14,
   "metadata": {},
   "outputs": [
    {
     "data": {
      "image/png": "[encoded data removed]",
      "text/plain": [
       "<matplotlib.figure.Figure at 0x10dcffe90>"
      ]
     },
     "metadata": {},
     "output_type": "display_data"
    }
   ],
   "source": [
    "#We can now bin the 'price_doc' and plot it.\n",
    "plt.figure(figsize=(14,6))\n",
    "sns.distplot(train.price_doc.values, bins=50, kde=True)\n",
    "plt.xlabel('price', fontsize=12)\n",
    "plt.show()"
   ]
  },
  {
   "cell_type": "code",
   "execution_count": 15,
   "metadata": {},
   "outputs": [
    {
     "data": {
      "image/png": "[encoded data removed]",
      "text/plain": [
       "<matplotlib.figure.Figure at 0x121d300d0>"
      ]
     },
     "metadata": {},
     "output_type": "display_data"
    }
   ],
   "source": [
    "# Price Change Over years \n",
    "train_temp = train\n",
    "train_temp['year'] = train['timestamp'].apply(lambda x: x[:4])\n",
    "grouped_df = train_temp.groupby('year')['price_doc'].aggregate(np.median).reset_index()\n",
    "\n",
    "plt.figure(figsize=(12,8))\n",
    "sns.pointplot(grouped_df.year.values, grouped_df.price_doc.values, alpha=0.8, color=\"#2076b4\")\n",
    "plt.ylabel('Median Price', fontsize=12)\n",
    "plt.xlabel('Year Month', fontsize=12)\n",
    "plt.xticks(rotation='vertical')\n",
    "plt.title(\"Price Change Over years\")\n",
    "plt.show()"
   ]
  },
  {
   "cell_type": "code",
   "execution_count": 16,
   "metadata": {},
   "outputs": [
    {
     "data": {
      "image/png": "[encoded data removed]",
      "text/plain": [
       "<matplotlib.figure.Figure at 0x10e036110>"
      ]
     },
     "metadata": {},
     "output_type": "display_data"
    }
   ],
   "source": [
    "# Number of Houses by Number of Floors in each house\n",
    "plt.figure(figsize=(12,8))\n",
    "sns.countplot(x=\"floor\", data=train, color=\"#2076b4\")\n",
    "plt.ylabel('Count', fontsize=12)\n",
    "plt.xlabel('floor number', fontsize=12)\n",
    "plt.title(\"Number of Houses by Number of Floors in each house\")\n",
    "plt.xticks(rotation='vertical')\n",
    "plt.show()"
   ]
  },
  {
   "cell_type": "code",
   "execution_count": 17,
   "metadata": {},
   "outputs": [
    {
     "data": {
      "image/png": "[encoded data removed]",
      "text/plain": [
       "<matplotlib.figure.Figure at 0x12537b550>"
      ]
     },
     "metadata": {},
     "output_type": "display_data"
    }
   ],
   "source": [
    "#Price change by Number of Floors in each house\n",
    "grouped_df = train.groupby('floor')['price_doc'].aggregate(np.median).reset_index()\n",
    "plt.figure(figsize=(12,8))\n",
    "sns.pointplot(grouped_df.floor.values, grouped_df.price_doc.values, alpha=0.8, color=\"#2076b4\")\n",
    "plt.ylabel('Median Price', fontsize=12)\n",
    "plt.xlabel('Floor number', fontsize=12)\n",
    "plt.title(\"Median Price by Number of Floors in each house\")\n",
    "plt.xticks(rotation='vertical')\n",
    "plt.show()"
   ]
  },
  {
   "cell_type": "code",
   "execution_count": 13,
   "metadata": {
    "collapsed": true
   },
   "outputs": [],
   "source": [
    "X_list_num = ['full_sq', 'num_room', 'floor', 'area_m', \n",
    "              'timestamp',\n",
    "              'preschool_education_centers_raion', 'school_education_centers_raion', \n",
    "              'children_preschool', 'children_school',\n",
    "              'shopping_centers_raion', 'healthcare_centers_raion', \n",
    "              'office_raion', 'sport_objects_raion',\n",
    "              'public_transport_station_min_walk', \n",
    "              'railroad_station_walk_min', 'railroad_station_avto_km',\n",
    "              'cafe_count_500',\n",
    "              'kremlin_km', 'workplaces_km', \n",
    "              'ID_metro', 'metro_km_avto', 'metro_min_walk', \n",
    "              'public_healthcare_km', 'shopping_centers_km', 'big_market_km',\n",
    "              'fitness_km', 'swim_pool_km', 'stadium_km', 'park_km',\n",
    "              'kindergarten_km', 'school_km', 'preschool_km', \n",
    "              'university_km', 'additional_education_km',\n",
    "              'theater_km', 'exhibition_km', 'museum_km', \n",
    "              'big_road1_km', 'big_road2_km',\n",
    "              'detention_facility_km', 'cemetery_km', 'oil_chemistry_km', 'radiation_km',\n",
    "              'raion_popul', 'work_all', 'young_all', 'ekder_all']\n",
    "X_list_cat = ['sub_area', 'ecology', 'big_market_raion']\n",
    "\n",
    "features_train = train[X_list_num]\n",
    "features_test = test[X_list_num]\n",
    "target_train = train['price_doc']"
   ]
  },
  {
   "cell_type": "code",
   "execution_count": 14,
   "metadata": {},
   "outputs": [
    {
     "data": {
      "image/png": "[encoded data removed]",
      "text/plain": [
       "<matplotlib.figure.Figure at 0x10320d890>"
      ]
     },
     "metadata": {},
     "output_type": "display_data"
    }
   ],
   "source": [
    "plt.style.use('seaborn-whitegrid')\n",
    "plt.figure(figsize=(14, 6))\n",
    "\n",
    "plt.hist(np.log(target_train), bins=200, normed=True, alpha=0.7)\n",
    "\n",
    "plt.xlabel(\"Prices\")\n",
    "plt.title('Sberbank Russian Housing Data');"
   ]
  },
  {
   "cell_type": "code",
   "execution_count": 15,
   "metadata": {},
   "outputs": [
    {
     "name": "stdout",
     "output_type": "stream",
     "text": [
      "Sberbank Russian Housing Dataset Statistics: \n",
      "\n",
      "('Number of houses = ', 30471)\n",
      "('Number of features = ', 47)\n",
      "('Minimum house price = ', 100000)\n",
      "('Maximum house price = ', 111111112)\n",
      "('Mean house price = ', '7123035.28')\n",
      "('Median house price = ', '6274411.00')\n",
      "('Standard deviation of house prices =', '4780032.89')\n"
     ]
    }
   ],
   "source": [
    "print (\"Sberbank Russian Housing Dataset Statistics: \\n\")\n",
    "print (\"Number of houses = \", len(target_train))\n",
    "print (\"Number of features = \", len(list(features_train.keys())))\n",
    "print (\"Minimum house price = \", np.min(target_train))\n",
    "print (\"Maximum house price = \", np.max(target_train))\n",
    "print (\"Mean house price = \", \"%.2f\" % np.mean(target_train))\n",
    "print (\"Median house price = \", \"%.2f\" % np.median(target_train))\n",
    "print (\"Standard deviation of house prices =\", \"%.2f\" % np.std(target_train))"
   ]
  },
  {
   "cell_type": "code",
   "execution_count": 16,
   "metadata": {},
   "outputs": [
    {
     "name": "stderr",
     "output_type": "stream",
     "text": [
      "/Users/i033085/anaconda2/lib/python2.7/site-packages/ipykernel_launcher.py:7: SettingWithCopyWarning: \n",
      "A value is trying to be set on a copy of a slice from a DataFrame.\n",
      "Try using .loc[row_indexer,col_indexer] = value instead\n",
      "\n",
      "See the caveats in the documentation: http://pandas.pydata.org/pandas-docs/stable/indexing.html#indexing-view-versus-copy\n",
      "  import sys\n",
      "/Users/i033085/anaconda2/lib/python2.7/site-packages/ipykernel_launcher.py:10: SettingWithCopyWarning: \n",
      "A value is trying to be set on a copy of a slice from a DataFrame.\n",
      "Try using .loc[row_indexer,col_indexer] = value instead\n",
      "\n",
      "See the caveats in the documentation: http://pandas.pydata.org/pandas-docs/stable/indexing.html#indexing-view-versus-copy\n",
      "  # Remove the CWD from sys.path while we load stuff.\n"
     ]
    },
    {
     "data": {
      "text/plain": [
       "20899"
      ]
     },
     "execution_count": 16,
     "metadata": {},
     "output_type": "execute_result"
    }
   ],
   "source": [
    "df = pd.DataFrame(features_train, columns=X_list_num)\n",
    "df['prices'] = target_train\n",
    "\n",
    "df = df.dropna(subset=['num_room'])\n",
    "\n",
    "df['metro_min_walk'] = df['metro_min_walk'].interpolate(method='linear')\n",
    "features_test['metro_min_walk'] = features_test['metro_min_walk'].interpolate(method='linear')\n",
    "\n",
    "df['railroad_station_walk_min'] = df['railroad_station_walk_min'].interpolate(method='linear')\n",
    "features_test['railroad_station_walk_min'] = \\\n",
    "features_test['railroad_station_walk_min'].interpolate(method='linear')\n",
    "\n",
    "df['floor'] = df['floor'].fillna(df['floor'].median())\n",
    "len(df)"
   ]
  },
  {
   "cell_type": "code",
   "execution_count": 17,
   "metadata": {
    "collapsed": true
   },
   "outputs": [],
   "source": [
    "ID_metro_cat = pd.factorize(df['ID_metro'])\n",
    "df['ID_metro'] = ID_metro_cat[0]"
   ]
  },
  {
   "cell_type": "code",
   "execution_count": 18,
   "metadata": {},
   "outputs": [
    {
     "name": "stderr",
     "output_type": "stream",
     "text": [
      "/Users/i033085/anaconda2/lib/python2.7/site-packages/pandas/core/generic.py:3117: SettingWithCopyWarning: \n",
      "A value is trying to be set on a copy of a slice from a DataFrame\n",
      "\n",
      "See the caveats in the documentation: http://pandas.pydata.org/pandas-docs/stable/indexing.html#indexing-view-versus-copy\n",
      "  self._update_inplace(new_data)\n"
     ]
    }
   ],
   "source": [
    "ID_metro_pairs = dict(zip(list(ID_metro_cat[1]), list(set(ID_metro_cat[0]))))\n",
    "ID_metro_pairs[224] = 219\n",
    "features_test['ID_metro'].replace(ID_metro_pairs,inplace=True)"
   ]
  },
  {
   "cell_type": "code",
   "execution_count": 19,
   "metadata": {
    "collapsed": true
   },
   "outputs": [],
   "source": [
    "usdrub_pairs = dict(zip(list(macro['timestamp']), list(macro['usdrub'])))"
   ]
  },
  {
   "cell_type": "code",
   "execution_count": 20,
   "metadata": {
    "collapsed": true
   },
   "outputs": [],
   "source": [
    "df['timestamp'].replace(usdrub_pairs,inplace=True)\n",
    "features_test['timestamp'].replace(usdrub_pairs,inplace=True)"
   ]
  },
  {
   "cell_type": "code",
   "execution_count": 21,
   "metadata": {},
   "outputs": [
    {
     "name": "stderr",
     "output_type": "stream",
     "text": [
      "/Users/i033085/anaconda2/lib/python2.7/site-packages/pandas/core/frame.py:2697: SettingWithCopyWarning: \n",
      "A value is trying to be set on a copy of a slice from a DataFrame\n",
      "\n",
      "See the caveats in the documentation: http://pandas.pydata.org/pandas-docs/stable/indexing.html#indexing-view-versus-copy\n",
      "  **kwargs)\n"
     ]
    }
   ],
   "source": [
    "df.rename(columns={'timestamp' : 'usdrub'}, inplace=True)\n",
    "features_test.rename(columns={'timestamp' : 'usdrub'}, inplace=True)"
   ]
  },
  {
   "cell_type": "code",
   "execution_count": 22,
   "metadata": {},
   "outputs": [
    {
     "data": {
      "text/plain": [
       "full_sq                              0.593829\n",
       "num_room                             0.476337\n",
       "kremlin_km                          -0.290126\n",
       "sport_objects_raion                  0.256412\n",
       "ID_metro                             0.250502\n",
       "stadium_km                          -0.238431\n",
       "detention_facility_km               -0.233395\n",
       "university_km                       -0.222964\n",
       "theater_km                          -0.222873\n",
       "workplaces_km                       -0.220889\n",
       "swim_pool_km                        -0.220480\n",
       "exhibition_km                       -0.212144\n",
       "radiation_km                        -0.208256\n",
       "museum_km                           -0.203846\n",
       "park_km                             -0.201636\n",
       "metro_min_walk                      -0.200058\n",
       "fitness_km                          -0.197702\n",
       "metro_km_avto                       -0.194751\n",
       "school_education_centers_raion       0.193896\n",
       "healthcare_centers_raion             0.185419\n",
       "shopping_centers_km                 -0.182459\n",
       "public_healthcare_km                -0.182388\n",
       "big_road2_km                        -0.178865\n",
       "ekder_all                            0.169331\n",
       "area_m                              -0.167851\n",
       "school_km                           -0.158775\n",
       "preschool_education_centers_raion    0.157762\n",
       "preschool_km                        -0.157079\n",
       "office_raion                         0.149137\n",
       "additional_education_km             -0.146074\n",
       "raion_popul                          0.145984\n",
       "kindergarten_km                     -0.141627\n",
       "shopping_centers_raion               0.140370\n",
       "work_all                             0.136761\n",
       "railroad_station_walk_min           -0.135099\n",
       "oil_chemistry_km                    -0.134873\n",
       "children_school                      0.132915\n",
       "railroad_station_avto_km            -0.132209\n",
       "young_all                            0.131324\n",
       "children_preschool                   0.129064\n",
       "public_transport_station_min_walk   -0.128647\n",
       "floor                                0.118989\n",
       "cafe_count_500                       0.117084\n",
       "big_road1_km                        -0.098968\n",
       "usdrub                               0.069506\n",
       "big_market_km                       -0.069257\n",
       "cemetery_km                         -0.042413\n",
       "Name: prices, dtype: float64"
      ]
     },
     "execution_count": 22,
     "metadata": {},
     "output_type": "execute_result"
    }
   ],
   "source": [
    "pearson = df.corr(method='pearson')\n",
    "corr_with_prices = pearson.ix[-1][:-1]\n",
    "corr_with_prices[abs(corr_with_prices).argsort()[::-1]]"
   ]
  },
  {
   "cell_type": "code",
   "execution_count": 23,
   "metadata": {
    "collapsed": true
   },
   "outputs": [],
   "source": [
    "target_train = df['prices'].as_matrix()\n",
    "features_train = df.drop('prices', 1).as_matrix()\n",
    "features_test = features_test.as_matrix()"
   ]
  },
  {
   "cell_type": "code",
   "execution_count": 24,
   "metadata": {},
   "outputs": [
    {
     "data": {
      "text/plain": [
       "((16639, 47), (4160, 47))"
      ]
     },
     "execution_count": 24,
     "metadata": {},
     "output_type": "execute_result"
    }
   ],
   "source": [
    "X_train, X_test, y_train, y_test = train_test_split(features_train[:-100], target_train[:-100], \n",
    "                                                    test_size = 0.2, random_state = 1)\n",
    "X_train.shape, X_test.shape"
   ]
  },
  {
   "cell_type": "code",
   "execution_count": 25,
   "metadata": {
    "collapsed": true
   },
   "outputs": [],
   "source": [
    "scale = RobustScaler()\n",
    "X_train = scale.fit_transform(X_train)\n",
    "X_test = scale.transform(X_test)"
   ]
  },
  {
   "cell_type": "code",
   "execution_count": 26,
   "metadata": {
    "collapsed": true
   },
   "outputs": [],
   "source": [
    "##### Ir-respective of the steps above the code below should be generic ...giving me some scope to actually do \n",
    "#### some feature engineering later ..."
   ]
  },
  {
   "cell_type": "markdown",
   "metadata": {},
   "source": [
    "###### Regression"
   ]
  },
  {
   "cell_type": "code",
   "execution_count": 27,
   "metadata": {
    "collapsed": true
   },
   "outputs": [],
   "source": [
    "def loss_plot(fit_history):\n",
    "    plt.figure(figsize=(14, 6))\n",
    "\n",
    "    plt.plot(fit_history.history['loss'], label = 'train')\n",
    "    plt.plot(fit_history.history['val_loss'], label = 'test')\n",
    "\n",
    "    plt.legend()\n",
    "    plt.title('Loss Function');  \n",
    "    \n",
    "def mae_plot(fit_history):\n",
    "    plt.figure(figsize=(14, 6))\n",
    "\n",
    "    plt.plot(fit_history.history['mean_absolute_error'], label = 'train')\n",
    "    plt.plot(fit_history.history['val_mean_absolute_error'], label = 'test')\n",
    "\n",
    "    plt.legend()\n",
    "    plt.title('Mean Absolute Error'); "
   ]
  },
  {
   "cell_type": "code",
   "execution_count": 28,
   "metadata": {
    "collapsed": true
   },
   "outputs": [],
   "source": [
    "def mlp_model():\n",
    "    model = Sequential()\n",
    "    \n",
    "    model.add(Dense(94, input_dim=47, kernel_initializer='normal', activation='relu'))\n",
    "    model.add(Dense(94, kernel_initializer='normal', activation='relu'))\n",
    "    \n",
    "    model.add(Dropout(0.5))\n",
    "    \n",
    "    model.add(Dense(47, kernel_initializer='normal', activation='relu'))\n",
    "    model.add(Dense(47, kernel_initializer='normal', activation='relu'))\n",
    "    \n",
    "    model.add(Dropout(0.5))\n",
    "    \n",
    "    model.add(Dense(1, kernel_initializer='normal'))\n",
    "    \n",
    "    model.compile(loss='mse', optimizer='rmsprop', metrics=['mae'])\n",
    "    return model"
   ]
  },
  {
   "cell_type": "code",
   "execution_count": 29,
   "metadata": {},
   "outputs": [
    {
     "name": "stderr",
     "output_type": "stream",
     "text": [
      "/Users/i033085/anaconda2/lib/python2.7/site-packages/keras/models.py:981: UserWarning: The `nb_epoch` argument in `fit` has been renamed `epochs`.\n",
      "  warnings.warn('The `nb_epoch` argument in `fit` '\n"
     ]
    }
   ],
   "source": [
    "mlp_model = mlp_model()\n",
    "\n",
    "mlp_history = mlp_model.fit(X_train, y_train, validation_data=(X_test, y_test),\n",
    "                            nb_epoch=80, batch_size=16, verbose=0)"
   ]
  },
  {
   "cell_type": "code",
   "execution_count": 30,
   "metadata": {},
   "outputs": [
    {
     "data": {
      "image/png": "[encoded data removed]",
      "text/plain": [
       "<matplotlib.figure.Figure at 0x1031c7310>"
      ]
     },
     "metadata": {},
     "output_type": "display_data"
    },
    {
     "data": {
      "image/png": "[encoded data removed]",
      "text/plain": [
       "<matplotlib.figure.Figure at 0x1031c7d90>"
      ]
     },
     "metadata": {},
     "output_type": "display_data"
    }
   ],
   "source": [
    "loss_plot(mlp_history)\n",
    "mae_plot(mlp_history)"
   ]
  },
  {
   "cell_type": "code",
   "execution_count": 31,
   "metadata": {
    "collapsed": true
   },
   "outputs": [],
   "source": [
    "def mlp_model2():\n",
    "    model = Sequential()\n",
    "    \n",
    "    model.add(Dense(188, input_dim=47, kernel_initializer='normal', activation='relu'))   \n",
    "    model.add(Dense(188, kernel_initializer='normal', activation='relu'))\n",
    "    \n",
    "    model.add(Dropout(0.2))\n",
    "    \n",
    "    model.add(Dense(94, kernel_initializer='normal', activation='relu'))  \n",
    "    model.add(Dense(94, kernel_initializer='normal', activation='relu'))\n",
    "    \n",
    "    model.add(Dropout(0.2))\n",
    "    \n",
    "    model.add(Dense(47, kernel_initializer='normal', activation='relu'))\n",
    "    \n",
    "    model.add(Dense(1, kernel_initializer='normal'))\n",
    "    \n",
    "    model.compile(loss='mse', optimizer='rmsprop', metrics=['mae'])\n",
    "    return model"
   ]
  },
  {
   "cell_type": "code",
   "execution_count": 32,
   "metadata": {
    "collapsed": true
   },
   "outputs": [],
   "source": [
    "mlp_model2 = mlp_model2()\n",
    "\n",
    "mlp_history2 = mlp_model2.fit(X_train, y_train, validation_data=(X_test, y_test),\n",
    "                            nb_epoch=80, batch_size=16, verbose=0)"
   ]
  },
  {
   "cell_type": "code",
   "execution_count": 33,
   "metadata": {},
   "outputs": [
    {
     "data": {
      "image/png": "[encoded data removed]",
      "text/plain": [
       "<matplotlib.figure.Figure at 0x119bef950>"
      ]
     },
     "metadata": {},
     "output_type": "display_data"
    },
    {
     "data": {
      "image/png": "[encoded data removed]",
      "text/plain": [
       "<matplotlib.figure.Figure at 0x119bef910>"
      ]
     },
     "metadata": {},
     "output_type": "display_data"
    }
   ],
   "source": [
    "loss_plot(mlp_history2)\n",
    "mae_plot(mlp_history2)"
   ]
  },
  {
   "cell_type": "code",
   "execution_count": 34,
   "metadata": {
    "collapsed": true
   },
   "outputs": [],
   "source": [
    "y_train_mlp = mlp_model.predict(X_train)\n",
    "y_test_mlp = mlp_model.predict(X_test)"
   ]
  },
  {
   "cell_type": "code",
   "execution_count": 35,
   "metadata": {
    "collapsed": true
   },
   "outputs": [],
   "source": [
    "y_train_mlp2 = mlp_model2.predict(X_train)\n",
    "y_test_mlp2 = mlp_model2.predict(X_test)"
   ]
  },
  {
   "cell_type": "code",
   "execution_count": 36,
   "metadata": {
    "collapsed": true
   },
   "outputs": [],
   "source": [
    "mlpr = MLPRegressor(hidden_layer_sizes=(188,), max_iter=200, solver='lbfgs', \n",
    "                    alpha=0.01, verbose=10)\n",
    "mlpr.fit(X_train, y_train);"
   ]
  },
  {
   "cell_type": "code",
   "execution_count": 37,
   "metadata": {
    "collapsed": true
   },
   "outputs": [],
   "source": [
    "y_train_mlpr = mlpr.predict(X_train)\n",
    "y_test_mlpr = mlpr.predict(X_test)"
   ]
  },
  {
   "cell_type": "code",
   "execution_count": 38,
   "metadata": {},
   "outputs": [
    {
     "name": "stdout",
     "output_type": "stream",
     "text": [
      "WARNING:tensorflow:From <ipython-input-38-79623096d490>:2: infer_real_valued_columns_from_input (from tensorflow.contrib.learn.python.learn.estimators.estimator) is deprecated and will be removed in a future version.\n",
      "Instructions for updating:\n",
      "Please specify feature columns explicitly.\n",
      "WARNING:tensorflow:From /Users/i033085/anaconda2/lib/python2.7/site-packages/tensorflow/contrib/learn/python/learn/estimators/estimator.py:142: setup_train_data_feeder (from tensorflow.contrib.learn.python.learn.learn_io.data_feeder) is deprecated and will be removed in a future version.\n",
      "Instructions for updating:\n",
      "Please use tensorflow/transform or tf.data.\n",
      "WARNING:tensorflow:From /Users/i033085/anaconda2/lib/python2.7/site-packages/tensorflow/contrib/learn/python/learn/learn_io/data_feeder.py:100: extract_pandas_data (from tensorflow.contrib.learn.python.learn.learn_io.pandas_io) is deprecated and will be removed in a future version.\n",
      "Instructions for updating:\n",
      "Please access pandas data directly.\n",
      "WARNING:tensorflow:From /Users/i033085/anaconda2/lib/python2.7/site-packages/tensorflow/contrib/learn/python/learn/learn_io/data_feeder.py:159: __init__ (from tensorflow.contrib.learn.python.learn.learn_io.data_feeder) is deprecated and will be removed in a future version.\n",
      "Instructions for updating:\n",
      "Please use tensorflow/transform or tf.data.\n",
      "WARNING:tensorflow:From /Users/i033085/anaconda2/lib/python2.7/site-packages/tensorflow/contrib/learn/python/learn/learn_io/data_feeder.py:340: check_array (from tensorflow.contrib.learn.python.learn.learn_io.data_feeder) is deprecated and will be removed in a future version.\n",
      "Instructions for updating:\n",
      "Please convert numpy dtypes explicitly.\n",
      "WARNING:tensorflow:float64 is not supported by many models, consider casting to float32.\n",
      "WARNING:tensorflow:From /Users/i033085/anaconda2/lib/python2.7/site-packages/tensorflow/contrib/learn/python/learn/estimators/estimator.py:182: infer_real_valued_columns_from_input_fn (from tensorflow.contrib.learn.python.learn.estimators.estimator) is deprecated and will be removed in a future version.\n",
      "Instructions for updating:\n",
      "Please specify feature columns explicitly.\n"
     ]
    }
   ],
   "source": [
    "# TensorFlow Regression using DNN\n",
    "features = learn.infer_real_valued_columns_from_input(X_train)"
   ]
  },
  {
   "cell_type": "code",
   "execution_count": 39,
   "metadata": {
    "collapsed": true
   },
   "outputs": [
    {
     "name": "stdout",
     "output_type": "stream",
     "text": [
      "WARNING:tensorflow:From /Users/i033085/anaconda2/lib/python2.7/site-packages/tensorflow/contrib/learn/python/learn/estimators/dnn.py:660: regression_head (from tensorflow.contrib.learn.python.learn.estimators.head) is deprecated and will be removed in a future version.\n",
      "Instructions for updating:\n",
      "Please switch to tf.contrib.estimator.*_head.\n",
      "WARNING:tensorflow:From /Users/i033085/anaconda2/lib/python2.7/site-packages/tensorflow/contrib/learn/python/learn/estimators/estimator.py:1165: __init__ (from tensorflow.contrib.learn.python.learn.estimators.estimator) is deprecated and will be removed in a future version.\n",
      "Instructions for updating:\n",
      "Please replace uses of any Estimator from tf.contrib.learn with an Estimator from tf.estimator.*\n",
      "WARNING:tensorflow:From /Users/i033085/anaconda2/lib/python2.7/site-packages/tensorflow/contrib/learn/python/learn/estimators/estimator.py:427: __init__ (from tensorflow.contrib.learn.python.learn.estimators.run_config) is deprecated and will be removed in a future version.\n",
      "Instructions for updating:\n",
      "When switching to tf.estimator.Estimator, use tf.estimator.RunConfig instead.\n",
      "INFO:tensorflow:Using default config.\n",
      "WARNING:tensorflow:Using temporary folder as model directory: /var/folders/qk/0vhw5p4n2610vyrs2zqjmj2h0000gn/T/tmpb0HVDu\n",
      "INFO:tensorflow:Using config: {'_save_checkpoints_secs': 600, '_num_ps_replicas': 0, '_keep_checkpoint_max': 5, '_task_type': None, '_is_chief': True, '_cluster_spec': <tensorflow.python.training.server_lib.ClusterSpec object at 0x119befe50>, '_model_dir': '/var/folders/qk/0vhw5p4n2610vyrs2zqjmj2h0000gn/T/tmpb0HVDu', '_save_checkpoints_steps': None, '_keep_checkpoint_every_n_hours': 10000, '_session_config': None, '_tf_random_seed': None, '_save_summary_steps': 100, '_environment': 'local', '_num_worker_replicas': 0, '_task_id': 0, '_log_step_count_steps': 100, '_tf_config': gpu_options {\n",
      "  per_process_gpu_memory_fraction: 1.0\n",
      "}\n",
      ", '_evaluation_master': '', '_master': ''}\n"
     ]
    }
   ],
   "source": [
    "# Optimizer algorithm\n",
    "adam = tf.train.AdamOptimizer(learning_rate=0.001)\n",
    "\n",
    "# Build a multi-layer DNN for regression\n",
    "model_nn = learn.DNNRegressor(feature_columns=features, hidden_units=[400, 200, 100], \n",
    "                              optimizer=adam, activation_fn=tf.nn.relu,\n",
    "                              )\n",
    "\n"
   ]
  },
  {
   "cell_type": "code",
   "execution_count": 40,
   "metadata": {
    "collapsed": true
   },
   "outputs": [
    {
     "name": "stdout",
     "output_type": "stream",
     "text": [
      "WARNING:tensorflow:From <ipython-input-40-cc2ade7b61bb>:2: calling fit (from tensorflow.contrib.learn.python.learn.estimators.estimator) with y is deprecated and will be removed after 2016-12-01.\n",
      "Instructions for updating:\n",
      "Estimator is decoupled from Scikit Learn interface by moving into\n",
      "separate class SKCompat. Arguments x, y and batch_size are only\n",
      "available in the SKCompat class, Estimator will only accept input_fn.\n",
      "Example conversion:\n",
      "  est = Estimator(...) -> est = SKCompat(Estimator(...))\n",
      "WARNING:tensorflow:From <ipython-input-40-cc2ade7b61bb>:2: calling fit (from tensorflow.contrib.learn.python.learn.estimators.estimator) with x is deprecated and will be removed after 2016-12-01.\n",
      "Instructions for updating:\n",
      "Estimator is decoupled from Scikit Learn interface by moving into\n",
      "separate class SKCompat. Arguments x, y and batch_size are only\n",
      "available in the SKCompat class, Estimator will only accept input_fn.\n",
      "Example conversion:\n",
      "  est = Estimator(...) -> est = SKCompat(Estimator(...))\n",
      "WARNING:tensorflow:From <ipython-input-40-cc2ade7b61bb>:2: calling fit (from tensorflow.contrib.learn.python.learn.estimators.estimator) with batch_size is deprecated and will be removed after 2016-12-01.\n",
      "Instructions for updating:\n",
      "Estimator is decoupled from Scikit Learn interface by moving into\n",
      "separate class SKCompat. Arguments x, y and batch_size are only\n",
      "available in the SKCompat class, Estimator will only accept input_fn.\n",
      "Example conversion:\n",
      "  est = Estimator(...) -> est = SKCompat(Estimator(...))\n",
      "WARNING:tensorflow:From /Users/i033085/anaconda2/lib/python2.7/site-packages/tensorflow/contrib/learn/python/learn/estimators/estimator.py:494: __init__ (from tensorflow.contrib.learn.python.learn.estimators.estimator) is deprecated and will be removed in a future version.\n",
      "Instructions for updating:\n",
      "Please switch to the Estimator interface.\n",
      "WARNING:tensorflow:From /Users/i033085/anaconda2/lib/python2.7/site-packages/tensorflow/contrib/learn/python/learn/learn_io/data_feeder.py:102: extract_pandas_labels (from tensorflow.contrib.learn.python.learn.learn_io.pandas_io) is deprecated and will be removed in a future version.\n",
      "Instructions for updating:\n",
      "Please access pandas data directly.\n",
      "WARNING:tensorflow:float64 is not supported by many models, consider casting to float32.\n",
      "WARNING:tensorflow:From /Users/i033085/anaconda2/lib/python2.7/site-packages/tensorflow/contrib/learn/python/learn/estimators/head.py:678: __new__ (from tensorflow.contrib.learn.python.learn.estimators.model_fn) is deprecated and will be removed in a future version.\n",
      "Instructions for updating:\n",
      "When switching to tf.estimator.Estimator, use tf.estimator.EstimatorSpec. You can use the `estimator_spec` method to create an equivalent one.\n",
      "INFO:tensorflow:Create CheckpointSaverHook.\n",
      "INFO:tensorflow:Graph was finalized.\n",
      "INFO:tensorflow:Running local_init_op.\n",
      "INFO:tensorflow:Done running local_init_op.\n",
      "INFO:tensorflow:Saving checkpoints for 1 into /var/folders/qk/0vhw5p4n2610vyrs2zqjmj2h0000gn/T/tmpb0HVDu/model.ckpt.\n",
      "INFO:tensorflow:loss = 84485136000000.0, step = 1\n",
      "INFO:tensorflow:global_step/sec: 167.212\n",
      "INFO:tensorflow:loss = 69075443000000.0, step = 101 (0.599 sec)\n",
      "INFO:tensorflow:global_step/sec: 181.608\n",
      "INFO:tensorflow:loss = 72988900000000.0, step = 201 (0.551 sec)\n",
      "INFO:tensorflow:global_step/sec: 180.712\n",
      "INFO:tensorflow:loss = 53010856000000.0, step = 301 (0.553 sec)\n",
      "INFO:tensorflow:global_step/sec: 132.383\n",
      "INFO:tensorflow:loss = 33042127000000.0, step = 401 (0.756 sec)\n",
      "INFO:tensorflow:global_step/sec: 167.637\n",
      "INFO:tensorflow:loss = 29373833000000.0, step = 501 (0.596 sec)\n",
      "INFO:tensorflow:global_step/sec: 166.314\n",
      "INFO:tensorflow:loss = 14547262000000.0, step = 601 (0.602 sec)\n",
      "INFO:tensorflow:global_step/sec: 172.925\n",
      "INFO:tensorflow:loss = 16273164000000.0, step = 701 (0.577 sec)\n",
      "INFO:tensorflow:global_step/sec: 168.944\n",
      "INFO:tensorflow:loss = 16588521000000.0, step = 801 (0.592 sec)\n",
      "INFO:tensorflow:global_step/sec: 171.967\n",
      "INFO:tensorflow:loss = 12520343000000.0, step = 901 (0.582 sec)\n",
      "INFO:tensorflow:global_step/sec: 164.169\n",
      "INFO:tensorflow:loss = 11007720000000.0, step = 1001 (0.608 sec)\n",
      "INFO:tensorflow:global_step/sec: 174.693\n",
      "INFO:tensorflow:loss = 10066336000000.0, step = 1101 (0.573 sec)\n",
      "INFO:tensorflow:global_step/sec: 177.797\n",
      "INFO:tensorflow:loss = 19249624000000.0, step = 1201 (0.562 sec)\n",
      "INFO:tensorflow:global_step/sec: 168.615\n",
      "INFO:tensorflow:loss = 12584969000000.0, step = 1301 (0.593 sec)\n",
      "INFO:tensorflow:global_step/sec: 174.411\n",
      "INFO:tensorflow:loss = 9888770000000.0, step = 1401 (0.573 sec)\n",
      "INFO:tensorflow:global_step/sec: 173.413\n",
      "INFO:tensorflow:loss = 7644944300000.0, step = 1501 (0.577 sec)\n",
      "INFO:tensorflow:global_step/sec: 158.414\n",
      "INFO:tensorflow:loss = 11198144000000.0, step = 1601 (0.631 sec)\n",
      "INFO:tensorflow:global_step/sec: 158.24\n",
      "INFO:tensorflow:loss = 8475089300000.0, step = 1701 (0.632 sec)\n",
      "INFO:tensorflow:global_step/sec: 172.324\n",
      "INFO:tensorflow:loss = 11287585000000.0, step = 1801 (0.580 sec)\n",
      "INFO:tensorflow:global_step/sec: 167.563\n",
      "INFO:tensorflow:loss = 9674467000000.0, step = 1901 (0.597 sec)\n",
      "INFO:tensorflow:global_step/sec: 128.957\n",
      "INFO:tensorflow:loss = 8655274500000.0, step = 2001 (0.776 sec)\n",
      "INFO:tensorflow:global_step/sec: 169.649\n",
      "INFO:tensorflow:loss = 10918583000000.0, step = 2101 (0.589 sec)\n",
      "INFO:tensorflow:global_step/sec: 169.463\n",
      "INFO:tensorflow:loss = 7646245600000.0, step = 2201 (0.590 sec)\n",
      "INFO:tensorflow:global_step/sec: 169.136\n",
      "INFO:tensorflow:loss = 8088923000000.0, step = 2301 (0.591 sec)\n",
      "INFO:tensorflow:global_step/sec: 172.238\n",
      "INFO:tensorflow:loss = 10176889000000.0, step = 2401 (0.581 sec)\n",
      "INFO:tensorflow:global_step/sec: 165.653\n",
      "INFO:tensorflow:loss = 7891773000000.0, step = 2501 (0.603 sec)\n",
      "INFO:tensorflow:global_step/sec: 153.38\n",
      "INFO:tensorflow:loss = 6947473500000.0, step = 2601 (0.652 sec)\n",
      "INFO:tensorflow:global_step/sec: 164.968\n",
      "INFO:tensorflow:loss = 9503964000000.0, step = 2701 (0.608 sec)\n",
      "INFO:tensorflow:global_step/sec: 166.873\n",
      "INFO:tensorflow:loss = 6941522000000.0, step = 2801 (0.598 sec)\n",
      "INFO:tensorflow:global_step/sec: 158.138\n",
      "INFO:tensorflow:loss = 10561549000000.0, step = 2901 (0.633 sec)\n",
      "INFO:tensorflow:global_step/sec: 157.291\n",
      "INFO:tensorflow:loss = 29834682000000.0, step = 3001 (0.635 sec)\n",
      "INFO:tensorflow:global_step/sec: 162.252\n",
      "INFO:tensorflow:loss = 10066958000000.0, step = 3101 (0.617 sec)\n",
      "INFO:tensorflow:global_step/sec: 174.543\n",
      "INFO:tensorflow:loss = 7129288700000.0, step = 3201 (0.573 sec)\n",
      "INFO:tensorflow:global_step/sec: 156.356\n",
      "INFO:tensorflow:loss = 5847487000000.0, step = 3301 (0.639 sec)\n",
      "INFO:tensorflow:global_step/sec: 162.703\n",
      "INFO:tensorflow:loss = 6755852500000.0, step = 3401 (0.615 sec)\n",
      "INFO:tensorflow:global_step/sec: 167.892\n",
      "INFO:tensorflow:loss = 6384251300000.0, step = 3501 (0.596 sec)\n",
      "INFO:tensorflow:global_step/sec: 166.645\n",
      "INFO:tensorflow:loss = 6247044600000.0, step = 3601 (0.600 sec)\n",
      "INFO:tensorflow:global_step/sec: 166.993\n",
      "INFO:tensorflow:loss = 20047440000000.0, step = 3701 (0.599 sec)\n",
      "INFO:tensorflow:global_step/sec: 166.146\n",
      "INFO:tensorflow:loss = 8938241000000.0, step = 3801 (0.602 sec)\n",
      "INFO:tensorflow:global_step/sec: 163.884\n",
      "INFO:tensorflow:loss = 8162891000000.0, step = 3901 (0.612 sec)\n",
      "INFO:tensorflow:global_step/sec: 150.305\n",
      "INFO:tensorflow:loss = 10555003000000.0, step = 4001 (0.663 sec)\n",
      "INFO:tensorflow:global_step/sec: 161.399\n",
      "INFO:tensorflow:loss = 5114069000000.0, step = 4101 (0.619 sec)\n",
      "INFO:tensorflow:global_step/sec: 152.648\n",
      "INFO:tensorflow:loss = 7100599000000.0, step = 4201 (0.656 sec)\n",
      "INFO:tensorflow:global_step/sec: 155.027\n",
      "INFO:tensorflow:loss = 7313454300000.0, step = 4301 (0.645 sec)\n",
      "INFO:tensorflow:global_step/sec: 167.311\n",
      "INFO:tensorflow:loss = 25863050000000.0, step = 4401 (0.597 sec)\n",
      "INFO:tensorflow:global_step/sec: 165.26\n",
      "INFO:tensorflow:loss = 8584816000000.0, step = 4501 (0.605 sec)\n",
      "INFO:tensorflow:global_step/sec: 169.436\n",
      "INFO:tensorflow:loss = 5769156600000.0, step = 4601 (0.590 sec)\n",
      "INFO:tensorflow:global_step/sec: 168.025\n",
      "INFO:tensorflow:loss = 7499632600000.0, step = 4701 (0.595 sec)\n",
      "INFO:tensorflow:global_step/sec: 166.89\n",
      "INFO:tensorflow:loss = 6057015400000.0, step = 4801 (0.599 sec)\n",
      "INFO:tensorflow:global_step/sec: 165.995\n",
      "INFO:tensorflow:loss = 7661354500000.0, step = 4901 (0.602 sec)\n"
     ]
    },
    {
     "name": "stdout",
     "output_type": "stream",
     "text": [
      "INFO:tensorflow:global_step/sec: 168.24\n",
      "INFO:tensorflow:loss = 6604483000000.0, step = 5001 (0.595 sec)\n",
      "INFO:tensorflow:global_step/sec: 167.734\n",
      "INFO:tensorflow:loss = 10919286000000.0, step = 5101 (0.596 sec)\n",
      "INFO:tensorflow:global_step/sec: 164.62\n",
      "INFO:tensorflow:loss = 7553219600000.0, step = 5201 (0.608 sec)\n",
      "INFO:tensorflow:global_step/sec: 165.818\n",
      "INFO:tensorflow:loss = 29383687000000.0, step = 5301 (0.603 sec)\n",
      "INFO:tensorflow:global_step/sec: 169.219\n",
      "INFO:tensorflow:loss = 6454808400000.0, step = 5401 (0.591 sec)\n",
      "INFO:tensorflow:global_step/sec: 167.181\n",
      "INFO:tensorflow:loss = 6648600000000.0, step = 5501 (0.598 sec)\n",
      "INFO:tensorflow:global_step/sec: 168.931\n",
      "INFO:tensorflow:loss = 7347326000000.0, step = 5601 (0.592 sec)\n",
      "INFO:tensorflow:global_step/sec: 145.574\n",
      "INFO:tensorflow:loss = 6710479600000.0, step = 5701 (0.686 sec)\n",
      "INFO:tensorflow:global_step/sec: 158.184\n",
      "INFO:tensorflow:loss = 7513809400000.0, step = 5801 (0.632 sec)\n",
      "INFO:tensorflow:global_step/sec: 149.577\n",
      "INFO:tensorflow:loss = 8227268000000.0, step = 5901 (0.669 sec)\n",
      "INFO:tensorflow:global_step/sec: 163.871\n",
      "INFO:tensorflow:loss = 4894640600000.0, step = 6001 (0.610 sec)\n",
      "INFO:tensorflow:global_step/sec: 149.313\n",
      "INFO:tensorflow:loss = 18971649000000.0, step = 6101 (0.671 sec)\n",
      "INFO:tensorflow:global_step/sec: 143.785\n",
      "INFO:tensorflow:loss = 7959603000000.0, step = 6201 (0.696 sec)\n",
      "INFO:tensorflow:global_step/sec: 144.091\n",
      "INFO:tensorflow:loss = 6945797300000.0, step = 6301 (0.693 sec)\n",
      "INFO:tensorflow:global_step/sec: 139.024\n",
      "INFO:tensorflow:loss = 6698939400000.0, step = 6401 (0.720 sec)\n",
      "INFO:tensorflow:global_step/sec: 146.978\n",
      "INFO:tensorflow:loss = 7195627400000.0, step = 6501 (0.679 sec)\n",
      "INFO:tensorflow:global_step/sec: 169.507\n",
      "INFO:tensorflow:loss = 5569990600000.0, step = 6601 (0.589 sec)\n",
      "INFO:tensorflow:global_step/sec: 163.192\n",
      "INFO:tensorflow:loss = 9504503000000.0, step = 6701 (0.613 sec)\n",
      "INFO:tensorflow:global_step/sec: 169.771\n",
      "INFO:tensorflow:loss = 4725756000000.0, step = 6801 (0.589 sec)\n",
      "INFO:tensorflow:global_step/sec: 174.864\n",
      "INFO:tensorflow:loss = 7952154500000.0, step = 6901 (0.572 sec)\n",
      "INFO:tensorflow:global_step/sec: 170.783\n",
      "INFO:tensorflow:loss = 6632858700000.0, step = 7001 (0.586 sec)\n",
      "INFO:tensorflow:global_step/sec: 156.478\n",
      "INFO:tensorflow:loss = 7910995000000.0, step = 7101 (0.639 sec)\n",
      "INFO:tensorflow:global_step/sec: 170.291\n",
      "INFO:tensorflow:loss = 8914274000000.0, step = 7201 (0.587 sec)\n",
      "INFO:tensorflow:global_step/sec: 168.043\n",
      "INFO:tensorflow:loss = 6335604000000.0, step = 7301 (0.595 sec)\n",
      "INFO:tensorflow:global_step/sec: 166.248\n",
      "INFO:tensorflow:loss = 5027701700000.0, step = 7401 (0.601 sec)\n",
      "INFO:tensorflow:global_step/sec: 172.471\n",
      "INFO:tensorflow:loss = 6923816000000.0, step = 7501 (0.580 sec)\n",
      "INFO:tensorflow:global_step/sec: 168.85\n",
      "INFO:tensorflow:loss = 7109888000000.0, step = 7601 (0.593 sec)\n",
      "INFO:tensorflow:global_step/sec: 171.133\n",
      "INFO:tensorflow:loss = 26282295000000.0, step = 7701 (0.584 sec)\n",
      "INFO:tensorflow:global_step/sec: 168.018\n",
      "INFO:tensorflow:loss = 8296083000000.0, step = 7801 (0.595 sec)\n",
      "INFO:tensorflow:global_step/sec: 168.022\n",
      "INFO:tensorflow:loss = 9158168000000.0, step = 7901 (0.595 sec)\n",
      "INFO:tensorflow:global_step/sec: 170.193\n",
      "INFO:tensorflow:loss = 8545590300000.0, step = 8001 (0.588 sec)\n",
      "INFO:tensorflow:global_step/sec: 168.267\n",
      "INFO:tensorflow:loss = 10694831000000.0, step = 8101 (0.594 sec)\n",
      "INFO:tensorflow:global_step/sec: 158.202\n",
      "INFO:tensorflow:loss = 8875047000000.0, step = 8201 (0.632 sec)\n",
      "INFO:tensorflow:global_step/sec: 171.261\n",
      "INFO:tensorflow:loss = 6129847400000.0, step = 8301 (0.584 sec)\n",
      "INFO:tensorflow:global_step/sec: 165.78\n",
      "INFO:tensorflow:loss = 6457297700000.0, step = 8401 (0.603 sec)\n",
      "INFO:tensorflow:global_step/sec: 168.024\n",
      "INFO:tensorflow:loss = 6943662000000.0, step = 8501 (0.596 sec)\n",
      "INFO:tensorflow:global_step/sec: 169.786\n",
      "INFO:tensorflow:loss = 6771870500000.0, step = 8601 (0.588 sec)\n",
      "INFO:tensorflow:global_step/sec: 170.655\n",
      "INFO:tensorflow:loss = 8196226300000.0, step = 8701 (0.586 sec)\n",
      "INFO:tensorflow:global_step/sec: 169.961\n",
      "INFO:tensorflow:loss = 6462989400000.0, step = 8801 (0.588 sec)\n",
      "INFO:tensorflow:global_step/sec: 166.884\n",
      "INFO:tensorflow:loss = 9643586000000.0, step = 8901 (0.599 sec)\n",
      "INFO:tensorflow:global_step/sec: 170.593\n",
      "INFO:tensorflow:loss = 7330335000000.0, step = 9001 (0.586 sec)\n",
      "INFO:tensorflow:global_step/sec: 166.962\n",
      "INFO:tensorflow:loss = 5501848000000.0, step = 9101 (0.599 sec)\n",
      "INFO:tensorflow:global_step/sec: 168.602\n",
      "INFO:tensorflow:loss = 6666319300000.0, step = 9201 (0.594 sec)\n",
      "INFO:tensorflow:global_step/sec: 170.36\n",
      "INFO:tensorflow:loss = 8464067000000.0, step = 9301 (0.587 sec)\n",
      "INFO:tensorflow:global_step/sec: 171.875\n",
      "INFO:tensorflow:loss = 8018389400000.0, step = 9401 (0.582 sec)\n",
      "INFO:tensorflow:global_step/sec: 162.348\n",
      "INFO:tensorflow:loss = 6516712000000.0, step = 9501 (0.616 sec)\n",
      "INFO:tensorflow:global_step/sec: 169.286\n",
      "INFO:tensorflow:loss = 5024290700000.0, step = 9601 (0.591 sec)\n",
      "INFO:tensorflow:global_step/sec: 168.436\n",
      "INFO:tensorflow:loss = 7531314300000.0, step = 9701 (0.594 sec)\n",
      "INFO:tensorflow:global_step/sec: 169.065\n",
      "INFO:tensorflow:loss = 5690439500000.0, step = 9801 (0.591 sec)\n",
      "INFO:tensorflow:global_step/sec: 168.181\n",
      "INFO:tensorflow:loss = 9296773000000.0, step = 9901 (0.595 sec)\n",
      "INFO:tensorflow:global_step/sec: 174.257\n",
      "INFO:tensorflow:loss = 10603064000000.0, step = 10001 (0.575 sec)\n",
      "INFO:tensorflow:global_step/sec: 163.987\n",
      "INFO:tensorflow:loss = 6665839600000.0, step = 10101 (0.609 sec)\n",
      "INFO:tensorflow:global_step/sec: 164.283\n",
      "INFO:tensorflow:loss = 12296388000000.0, step = 10201 (0.608 sec)\n",
      "INFO:tensorflow:global_step/sec: 152.848\n",
      "INFO:tensorflow:loss = 7668161000000.0, step = 10301 (0.655 sec)\n",
      "INFO:tensorflow:global_step/sec: 151.841\n",
      "INFO:tensorflow:loss = 6983498300000.0, step = 10401 (0.658 sec)\n",
      "INFO:tensorflow:global_step/sec: 165.416\n",
      "INFO:tensorflow:loss = 6859874400000.0, step = 10501 (0.604 sec)\n",
      "INFO:tensorflow:global_step/sec: 165.464\n",
      "INFO:tensorflow:loss = 9901433000000.0, step = 10601 (0.605 sec)\n",
      "INFO:tensorflow:global_step/sec: 169.314\n",
      "INFO:tensorflow:loss = 8434310000000.0, step = 10701 (0.590 sec)\n",
      "INFO:tensorflow:global_step/sec: 163.49\n",
      "INFO:tensorflow:loss = 6817573000000.0, step = 10801 (0.612 sec)\n",
      "INFO:tensorflow:global_step/sec: 163.378\n",
      "INFO:tensorflow:loss = 7179073500000.0, step = 10901 (0.611 sec)\n",
      "INFO:tensorflow:global_step/sec: 149.419\n",
      "INFO:tensorflow:loss = 5288502000000.0, step = 11001 (0.669 sec)\n",
      "INFO:tensorflow:global_step/sec: 162.229\n",
      "INFO:tensorflow:loss = 5701378000000.0, step = 11101 (0.617 sec)\n",
      "INFO:tensorflow:global_step/sec: 164.257\n",
      "INFO:tensorflow:loss = 6516194000000.0, step = 11201 (0.608 sec)\n",
      "INFO:tensorflow:global_step/sec: 168.887\n",
      "INFO:tensorflow:loss = 30446677000000.0, step = 11301 (0.593 sec)\n",
      "INFO:tensorflow:global_step/sec: 165.073\n",
      "INFO:tensorflow:loss = 30422820000000.0, step = 11401 (0.605 sec)\n",
      "INFO:tensorflow:global_step/sec: 163.208\n",
      "INFO:tensorflow:loss = 8614229600000.0, step = 11501 (0.613 sec)\n",
      "INFO:tensorflow:global_step/sec: 161.043\n",
      "INFO:tensorflow:loss = 6823818000000.0, step = 11601 (0.621 sec)\n",
      "INFO:tensorflow:global_step/sec: 166.454\n",
      "INFO:tensorflow:loss = 7278265600000.0, step = 11701 (0.601 sec)\n",
      "INFO:tensorflow:global_step/sec: 167.255\n",
      "INFO:tensorflow:loss = 9601431000000.0, step = 11801 (0.598 sec)\n",
      "INFO:tensorflow:global_step/sec: 165.538\n",
      "INFO:tensorflow:loss = 6896949000000.0, step = 11901 (0.604 sec)\n",
      "INFO:tensorflow:global_step/sec: 169.763\n",
      "INFO:tensorflow:loss = 8370356000000.0, step = 12001 (0.589 sec)\n",
      "INFO:tensorflow:global_step/sec: 158.046\n",
      "INFO:tensorflow:loss = 8555851700000.0, step = 12101 (0.633 sec)\n",
      "INFO:tensorflow:global_step/sec: 174.062\n",
      "INFO:tensorflow:loss = 5073991600000.0, step = 12201 (0.575 sec)\n",
      "INFO:tensorflow:global_step/sec: 167.421\n",
      "INFO:tensorflow:loss = 9149140000000.0, step = 12301 (0.597 sec)\n",
      "INFO:tensorflow:global_step/sec: 164.029\n",
      "INFO:tensorflow:loss = 7454534000000.0, step = 12401 (0.610 sec)\n",
      "INFO:tensorflow:global_step/sec: 169.393\n",
      "INFO:tensorflow:loss = 7950418600000.0, step = 12501 (0.591 sec)\n",
      "INFO:tensorflow:global_step/sec: 162.221\n",
      "INFO:tensorflow:loss = 5937260700000.0, step = 12601 (0.616 sec)\n",
      "INFO:tensorflow:global_step/sec: 163.723\n",
      "INFO:tensorflow:loss = 8857426000000.0, step = 12701 (0.612 sec)\n"
     ]
    },
    {
     "name": "stdout",
     "output_type": "stream",
     "text": [
      "INFO:tensorflow:global_step/sec: 164.447\n",
      "INFO:tensorflow:loss = 5756350000000.0, step = 12801 (0.607 sec)\n",
      "INFO:tensorflow:global_step/sec: 152.095\n",
      "INFO:tensorflow:loss = 7111610000000.0, step = 12901 (0.657 sec)\n",
      "INFO:tensorflow:global_step/sec: 169.963\n",
      "INFO:tensorflow:loss = 5059365600000.0, step = 13001 (0.589 sec)\n",
      "INFO:tensorflow:global_step/sec: 166.292\n",
      "INFO:tensorflow:loss = 8508493300000.0, step = 13101 (0.601 sec)\n",
      "INFO:tensorflow:global_step/sec: 171.49\n",
      "INFO:tensorflow:loss = 9127240000000.0, step = 13201 (0.584 sec)\n",
      "INFO:tensorflow:global_step/sec: 158.437\n",
      "INFO:tensorflow:loss = 5867336400000.0, step = 13301 (0.631 sec)\n",
      "INFO:tensorflow:global_step/sec: 166.341\n",
      "INFO:tensorflow:loss = 7853757700000.0, step = 13401 (0.602 sec)\n",
      "INFO:tensorflow:global_step/sec: 167.853\n",
      "INFO:tensorflow:loss = 8475297000000.0, step = 13501 (0.595 sec)\n",
      "INFO:tensorflow:global_step/sec: 158.147\n",
      "INFO:tensorflow:loss = 5820303500000.0, step = 13601 (0.633 sec)\n",
      "INFO:tensorflow:global_step/sec: 161.425\n",
      "INFO:tensorflow:loss = 8356012000000.0, step = 13701 (0.619 sec)\n",
      "INFO:tensorflow:global_step/sec: 165.387\n",
      "INFO:tensorflow:loss = 5992157000000.0, step = 13801 (0.605 sec)\n",
      "INFO:tensorflow:global_step/sec: 161.719\n",
      "INFO:tensorflow:loss = 6470491400000.0, step = 13901 (0.618 sec)\n",
      "INFO:tensorflow:global_step/sec: 167.269\n",
      "INFO:tensorflow:loss = 6964282000000.0, step = 14001 (0.598 sec)\n",
      "INFO:tensorflow:global_step/sec: 167.908\n",
      "INFO:tensorflow:loss = 5568358000000.0, step = 14101 (0.596 sec)\n",
      "INFO:tensorflow:global_step/sec: 164.927\n",
      "INFO:tensorflow:loss = 7452344500000.0, step = 14201 (0.606 sec)\n",
      "INFO:tensorflow:global_step/sec: 170.364\n",
      "INFO:tensorflow:loss = 8984627000000.0, step = 14301 (0.587 sec)\n",
      "INFO:tensorflow:global_step/sec: 163.854\n",
      "INFO:tensorflow:loss = 8388888500000.0, step = 14401 (0.611 sec)\n",
      "INFO:tensorflow:global_step/sec: 167.695\n",
      "INFO:tensorflow:loss = 7339171000000.0, step = 14501 (0.596 sec)\n",
      "INFO:tensorflow:global_step/sec: 160.434\n",
      "INFO:tensorflow:loss = 12711274000000.0, step = 14601 (0.623 sec)\n",
      "INFO:tensorflow:global_step/sec: 169.527\n",
      "INFO:tensorflow:loss = 6363624000000.0, step = 14701 (0.590 sec)\n",
      "INFO:tensorflow:global_step/sec: 171.011\n",
      "INFO:tensorflow:loss = 9159091000000.0, step = 14801 (0.585 sec)\n",
      "INFO:tensorflow:global_step/sec: 171.716\n",
      "INFO:tensorflow:loss = 5927413500000.0, step = 14901 (0.582 sec)\n",
      "INFO:tensorflow:Saving checkpoints for 15000 into /var/folders/qk/0vhw5p4n2610vyrs2zqjmj2h0000gn/T/tmpb0HVDu/model.ckpt.\n",
      "INFO:tensorflow:Loss for final step: 6191559000000.0.\n"
     ]
    },
    {
     "data": {
      "text/plain": [
       "DNNRegressor(params={'head': <tensorflow.contrib.learn.python.learn.estimators.head._RegressionHead object at 0x11c094cd0>, 'hidden_units': [400, 200, 100], 'feature_columns': (_RealValuedColumn(column_name='', dimension=47, default_value=None, dtype=tf.float64, normalizer=None),), 'embedding_lr_multipliers': None, 'optimizer': <tensorflow.python.training.adam.AdamOptimizer object at 0x11c0d5450>, 'dropout': None, 'gradient_clip_norm': None, 'activation_fn': <function relu at 0x10e9b46e0>, 'input_layer_min_slice_size': None})"
      ]
     },
     "execution_count": 40,
     "metadata": {},
     "output_type": "execute_result"
    }
   ],
   "source": [
    "# Fit and predict\n",
    "model_nn.fit(X_train, y_train, steps=15000, batch_size=512)\n"
   ]
  },
  {
   "cell_type": "code",
   "execution_count": 41,
   "metadata": {
    "collapsed": true
   },
   "outputs": [
    {
     "name": "stdout",
     "output_type": "stream",
     "text": [
      "WARNING:tensorflow:From /Users/i033085/anaconda2/lib/python2.7/site-packages/tensorflow/python/util/deprecation.py:497: calling predict (from tensorflow.contrib.learn.python.learn.estimators.dnn) with outputs=None is deprecated and will be removed after 2017-03-01.\n",
      "Instructions for updating:\n",
      "Please switch to predict_scores, or set `outputs` argument.\n",
      "WARNING:tensorflow:From /Users/i033085/anaconda2/lib/python2.7/site-packages/tensorflow/contrib/learn/python/learn/estimators/dnn.py:779: calling predict (from tensorflow.contrib.learn.python.learn.estimators.estimator) with x is deprecated and will be removed after 2016-12-01.\n",
      "Instructions for updating:\n",
      "Estimator is decoupled from Scikit Learn interface by moving into\n",
      "separate class SKCompat. Arguments x, y and batch_size are only\n",
      "available in the SKCompat class, Estimator will only accept input_fn.\n",
      "Example conversion:\n",
      "  est = Estimator(...) -> est = SKCompat(Estimator(...))\n",
      "WARNING:tensorflow:float64 is not supported by many models, consider casting to float32.\n",
      "INFO:tensorflow:Graph was finalized.\n",
      "INFO:tensorflow:Restoring parameters from /var/folders/qk/0vhw5p4n2610vyrs2zqjmj2h0000gn/T/tmpb0HVDu/model.ckpt-15000\n",
      "INFO:tensorflow:Running local_init_op.\n",
      "INFO:tensorflow:Done running local_init_op.\n"
     ]
    }
   ],
   "source": [
    "y_train_dnn = np.asarray(list(model_nn.predict(X_train)))"
   ]
  },
  {
   "cell_type": "code",
   "execution_count": 42,
   "metadata": {},
   "outputs": [
    {
     "name": "stdout",
     "output_type": "stream",
     "text": [
      "WARNING:tensorflow:float64 is not supported by many models, consider casting to float32.\n",
      "INFO:tensorflow:Graph was finalized.\n",
      "INFO:tensorflow:Restoring parameters from /var/folders/qk/0vhw5p4n2610vyrs2zqjmj2h0000gn/T/tmpb0HVDu/model.ckpt-15000\n",
      "INFO:tensorflow:Running local_init_op.\n",
      "INFO:tensorflow:Done running local_init_op.\n"
     ]
    }
   ],
   "source": [
    "y_test_dnn = np.asarray(list(model_nn.predict(X_test)))"
   ]
  },
  {
   "cell_type": "code",
   "execution_count": 43,
   "metadata": {
    "collapsed": true
   },
   "outputs": [],
   "source": [
    "def scores(regressor, y_train, y_test, y_train_reg, y_test_reg):\n",
    "    print(\"_______________________________________\")\n",
    "    print(regressor)\n",
    "    print(\"_______________________________________\")\n",
    "    print(\"EV score. Train: \", explained_variance_score(y_train, y_train_reg))\n",
    "    print(\"EV score. Test: \", explained_variance_score(y_test, y_test_reg))\n",
    "    print(\"---------\")\n",
    "    print(\"R2 score. Train: \", r2_score(y_train, y_train_reg))\n",
    "    print(\"R2 score. Test: \", r2_score(y_test, y_test_reg))\n",
    "    print(\"---------\")\n",
    "    print(\"MSE score. Train: \", mean_squared_error(y_train, y_train_reg))\n",
    "    print(\"MSE score. Test: \", mean_squared_error(y_test, y_test_reg))\n",
    "    print(\"---------\")\n",
    "    print(\"MAE score. Train: \", mean_absolute_error(y_train, y_train_reg))\n",
    "    print(\"MAE score. Test: \", mean_absolute_error(y_test, y_test_reg))\n",
    "    print(\"---------\")\n",
    "    print(\"MdAE score. Train: \", median_absolute_error(y_train, y_train_reg))\n",
    "    print(\"MdAE score. Test: \", median_absolute_error(y_test, y_test_reg))"
   ]
  },
  {
   "cell_type": "code",
   "execution_count": 44,
   "metadata": {},
   "outputs": [
    {
     "name": "stdout",
     "output_type": "stream",
     "text": [
      "_______________________________________\n",
      "MLP Model #1\n",
      "_______________________________________\n",
      "('EV score. Train: ', 0.6051998175141856)\n",
      "('EV score. Test: ', 0.45484377056207703)\n",
      "---------\n",
      "('R2 score. Train: ', 0.5996844314334426)\n",
      "('R2 score. Test: ', 0.4511397407764185)\n",
      "---------\n",
      "('MSE score. Train: ', 9347582259688.123)\n",
      "('MSE score. Test: ', 14651424379118.412)\n",
      "---------\n",
      "('MAE score. Train: ', 1672617.6550949577)\n",
      "('MAE score. Test: ', 1778269.092908654)\n",
      "---------\n",
      "('MdAE score. Train: ', 992204.0)\n",
      "('MdAE score. Test: ', 1022832.875)\n",
      "_______________________________________\n",
      "MLP Model #2\n",
      "_______________________________________\n",
      "('EV score. Train: ', 0.6442140874612509)\n",
      "('EV score. Test: ', 0.4841969798984599)\n",
      "---------\n",
      "('R2 score. Train: ', 0.6384340155054684)\n",
      "('R2 score. Test: ', 0.48085249378709893)\n",
      "---------\n",
      "('MSE score. Train: ', 8442758782702.267)\n",
      "('MSE score. Test: ', 13858264104684.932)\n",
      "---------\n",
      "('MAE score. Train: ', 1551103.87889146)\n",
      "('MAE score. Test: ', 1696699.8796875)\n",
      "---------\n",
      "('MdAE score. Train: ', 887495.5)\n",
      "('MdAE score. Test: ', 930890.75)\n"
     ]
    }
   ],
   "source": [
    "scores('MLP Model #1', y_train, y_test, y_train_mlp, y_test_mlp)\n",
    "scores('MLP Model #2', y_train, y_test, y_train_mlp2, y_test_mlp2)"
   ]
  },
  {
   "cell_type": "code",
   "execution_count": 45,
   "metadata": {},
   "outputs": [
    {
     "name": "stdout",
     "output_type": "stream",
     "text": [
      "_______________________________________\n",
      "MLP Regressor\n",
      "_______________________________________\n",
      "('EV score. Train: ', 0.6829931212362497)\n",
      "('EV score. Test: ', 0.5766187872816337)\n",
      "---------\n",
      "('R2 score. Train: ', 0.6829612862908856)\n",
      "('R2 score. Test: ', 0.576549515574013)\n",
      "---------\n",
      "('MSE score. Train: ', 7403023236177.068)\n",
      "('MSE score. Test: ', 11303701892435.809)\n",
      "---------\n",
      "('MAE score. Train: ', 1548667.5952414689)\n",
      "('MAE score. Test: ', 1666962.3373848458)\n",
      "---------\n",
      "('MdAE score. Train: ', 852002.4381517312)\n",
      "('MdAE score. Test: ', 874721.9058824028)\n"
     ]
    }
   ],
   "source": [
    "scores('MLP Regressor', y_train, y_test, y_train_mlpr, y_test_mlpr)"
   ]
  },
  {
   "cell_type": "code",
   "execution_count": 46,
   "metadata": {},
   "outputs": [
    {
     "name": "stdout",
     "output_type": "stream",
     "text": [
      "_______________________________________\n",
      "Deep Neural Network\n",
      "_______________________________________\n",
      "('EV score. Train: ', 0.6455946208682557)\n",
      "('EV score. Test: ', 0.5175116207636057)\n",
      "---------\n",
      "('R2 score. Train: ', 0.6455824537762718)\n",
      "('R2 score. Test: ', 0.5172598008586196)\n",
      "---------\n",
      "('MSE score. Train: ', 8275838932435.373)\n",
      "('MSE score. Test: ', 12886397591411.945)\n",
      "---------\n",
      "('MAE score. Train: ', 1519888.2681351043)\n",
      "('MAE score. Test: ', 1637884.0123197115)\n",
      "---------\n",
      "('MdAE score. Train: ', 758820.0)\n",
      "('MdAE score. Test: ', 797389.0)\n"
     ]
    }
   ],
   "source": [
    "scores('Deep Neural Network', y_train, y_test, y_train_dnn, y_test_dnn)"
   ]
  },
  {
   "cell_type": "markdown",
   "metadata": {},
   "source": [
    "#### Ensemble : Stacking"
   ]
  },
  {
   "cell_type": "code",
   "execution_count": 47,
   "metadata": {
    "collapsed": true
   },
   "outputs": [],
   "source": [
    "y_mlp = y_test_mlp.flatten().tolist()    # MLP \n",
    "y_mlp2 = y_test_mlp2.flatten().tolist()  # MLP2\n",
    "y_mlpr = y_test_mlpr.flatten().tolist()  # MLPR\n",
    "y_dnn = y_test_dnn.flatten().tolist()    # DNN\n",
    "\n"
   ]
  },
  {
   "cell_type": "code",
   "execution_count": 48,
   "metadata": {
    "collapsed": true
   },
   "outputs": [],
   "source": [
    "stack = pd.DataFrame({'mlp':y_mlp, 'mlp2':y_mlp2, 'mlpr':y_test_mlpr,'dnn':y_test_dnn, 'true':y_test})"
   ]
  },
  {
   "cell_type": "code",
   "execution_count": 49,
   "metadata": {
    "collapsed": true
   },
   "outputs": [
    {
     "name": "stdout",
     "output_type": "stream",
     "text": [
      "WARNING:tensorflow:float64 is not supported by many models, consider casting to float32.\n",
      "INFO:tensorflow:Using default config.\n",
      "WARNING:tensorflow:Using temporary folder as model directory: /var/folders/qk/0vhw5p4n2610vyrs2zqjmj2h0000gn/T/tmpRputqr\n",
      "INFO:tensorflow:Using config: {'_save_checkpoints_secs': 600, '_num_ps_replicas': 0, '_keep_checkpoint_max': 5, '_task_type': None, '_is_chief': True, '_cluster_spec': <tensorflow.python.training.server_lib.ClusterSpec object at 0x11abfbb10>, '_model_dir': '/var/folders/qk/0vhw5p4n2610vyrs2zqjmj2h0000gn/T/tmpRputqr', '_save_checkpoints_steps': None, '_keep_checkpoint_every_n_hours': 10000, '_session_config': None, '_tf_random_seed': None, '_save_summary_steps': 100, '_environment': 'local', '_num_worker_replicas': 0, '_task_id': 0, '_log_step_count_steps': 100, '_tf_config': gpu_options {\n",
      "  per_process_gpu_memory_fraction: 1.0\n",
      "}\n",
      ", '_evaluation_master': '', '_master': ''}\n",
      "WARNING:tensorflow:float64 is not supported by many models, consider casting to float32.\n",
      "INFO:tensorflow:Create CheckpointSaverHook.\n",
      "INFO:tensorflow:Graph was finalized.\n",
      "INFO:tensorflow:Running local_init_op.\n",
      "INFO:tensorflow:Done running local_init_op.\n",
      "INFO:tensorflow:Saving checkpoints for 1 into /var/folders/qk/0vhw5p4n2610vyrs2zqjmj2h0000gn/T/tmpRputqr/model.ckpt.\n",
      "INFO:tensorflow:loss = 86674930000000.0, step = 1\n",
      "INFO:tensorflow:global_step/sec: 203.046\n",
      "INFO:tensorflow:loss = 9561795000000.0, step = 101 (0.494 sec)\n",
      "INFO:tensorflow:global_step/sec: 214.164\n",
      "INFO:tensorflow:loss = 8887217000000.0, step = 201 (0.467 sec)\n",
      "INFO:tensorflow:global_step/sec: 235.197\n",
      "INFO:tensorflow:loss = 9049921000000.0, step = 301 (0.425 sec)\n",
      "INFO:tensorflow:global_step/sec: 191.634\n",
      "INFO:tensorflow:loss = 8099259000000.0, step = 401 (0.522 sec)\n",
      "INFO:tensorflow:global_step/sec: 195.81\n",
      "INFO:tensorflow:loss = 11524946000000.0, step = 501 (0.510 sec)\n",
      "INFO:tensorflow:global_step/sec: 214.954\n",
      "INFO:tensorflow:loss = 7867678000000.0, step = 601 (0.465 sec)\n",
      "INFO:tensorflow:global_step/sec: 232.894\n",
      "INFO:tensorflow:loss = 12741280000000.0, step = 701 (0.429 sec)\n",
      "INFO:tensorflow:global_step/sec: 233.95\n",
      "INFO:tensorflow:loss = 17049403000000.0, step = 801 (0.428 sec)\n",
      "INFO:tensorflow:global_step/sec: 223.385\n",
      "INFO:tensorflow:loss = 15405955000000.0, step = 901 (0.447 sec)\n",
      "INFO:tensorflow:global_step/sec: 227.586\n",
      "INFO:tensorflow:loss = 8235169000000.0, step = 1001 (0.439 sec)\n",
      "INFO:tensorflow:global_step/sec: 225.767\n",
      "INFO:tensorflow:loss = 12648439000000.0, step = 1101 (0.443 sec)\n",
      "INFO:tensorflow:global_step/sec: 224.204\n",
      "INFO:tensorflow:loss = 13889106000000.0, step = 1201 (0.446 sec)\n",
      "INFO:tensorflow:global_step/sec: 224.475\n",
      "INFO:tensorflow:loss = 8111724000000.0, step = 1301 (0.445 sec)\n",
      "INFO:tensorflow:global_step/sec: 225.418\n",
      "INFO:tensorflow:loss = 5587075000000.0, step = 1401 (0.444 sec)\n",
      "INFO:tensorflow:global_step/sec: 216.144\n",
      "INFO:tensorflow:loss = 5789205000000.0, step = 1501 (0.463 sec)\n",
      "INFO:tensorflow:global_step/sec: 225.539\n",
      "INFO:tensorflow:loss = 8192690000000.0, step = 1601 (0.444 sec)\n",
      "INFO:tensorflow:global_step/sec: 216.754\n",
      "INFO:tensorflow:loss = 10430119000000.0, step = 1701 (0.461 sec)\n",
      "INFO:tensorflow:global_step/sec: 222.207\n",
      "INFO:tensorflow:loss = 7715092000000.0, step = 1801 (0.451 sec)\n",
      "INFO:tensorflow:global_step/sec: 229.052\n",
      "INFO:tensorflow:loss = 9976850000000.0, step = 1901 (0.436 sec)\n",
      "INFO:tensorflow:global_step/sec: 228.526\n",
      "INFO:tensorflow:loss = 10950288000000.0, step = 2001 (0.438 sec)\n",
      "INFO:tensorflow:global_step/sec: 231.281\n",
      "INFO:tensorflow:loss = 8354404500000.0, step = 2101 (0.433 sec)\n",
      "INFO:tensorflow:global_step/sec: 208.828\n",
      "INFO:tensorflow:loss = 15494415000000.0, step = 2201 (0.479 sec)\n",
      "INFO:tensorflow:global_step/sec: 209.043\n",
      "INFO:tensorflow:loss = 16809366000000.0, step = 2301 (0.478 sec)\n",
      "INFO:tensorflow:global_step/sec: 212.35\n",
      "INFO:tensorflow:loss = 13540369000000.0, step = 2401 (0.471 sec)\n",
      "INFO:tensorflow:global_step/sec: 227.069\n",
      "INFO:tensorflow:loss = 5464308300000.0, step = 2501 (0.440 sec)\n",
      "INFO:tensorflow:global_step/sec: 199.252\n",
      "INFO:tensorflow:loss = 7174725000000.0, step = 2601 (0.503 sec)\n",
      "INFO:tensorflow:global_step/sec: 226.373\n",
      "INFO:tensorflow:loss = 5590606700000.0, step = 2701 (0.441 sec)\n",
      "INFO:tensorflow:global_step/sec: 224.802\n",
      "INFO:tensorflow:loss = 6661208000000.0, step = 2801 (0.445 sec)\n",
      "INFO:tensorflow:global_step/sec: 215.699\n",
      "INFO:tensorflow:loss = 5488673600000.0, step = 2901 (0.464 sec)\n",
      "INFO:tensorflow:global_step/sec: 206.456\n",
      "INFO:tensorflow:loss = 9830853000000.0, step = 3001 (0.484 sec)\n",
      "INFO:tensorflow:global_step/sec: 202.281\n",
      "INFO:tensorflow:loss = 7579403000000.0, step = 3101 (0.494 sec)\n",
      "INFO:tensorflow:global_step/sec: 206.337\n",
      "INFO:tensorflow:loss = 17560299000000.0, step = 3201 (0.485 sec)\n",
      "INFO:tensorflow:global_step/sec: 205.414\n",
      "INFO:tensorflow:loss = 6751013000000.0, step = 3301 (0.487 sec)\n",
      "INFO:tensorflow:global_step/sec: 226.897\n",
      "INFO:tensorflow:loss = 7549727300000.0, step = 3401 (0.441 sec)\n",
      "INFO:tensorflow:global_step/sec: 225.451\n",
      "INFO:tensorflow:loss = 8880063000000.0, step = 3501 (0.444 sec)\n",
      "INFO:tensorflow:global_step/sec: 211.312\n",
      "INFO:tensorflow:loss = 5480830000000.0, step = 3601 (0.473 sec)\n",
      "INFO:tensorflow:global_step/sec: 215.11\n",
      "INFO:tensorflow:loss = 13789074000000.0, step = 3701 (0.465 sec)\n",
      "INFO:tensorflow:global_step/sec: 210.196\n",
      "INFO:tensorflow:loss = 5935942000000.0, step = 3801 (0.475 sec)\n",
      "INFO:tensorflow:global_step/sec: 222.431\n",
      "INFO:tensorflow:loss = 19008303000000.0, step = 3901 (0.450 sec)\n",
      "INFO:tensorflow:global_step/sec: 213.296\n",
      "INFO:tensorflow:loss = 8644722700000.0, step = 4001 (0.469 sec)\n",
      "INFO:tensorflow:global_step/sec: 209.005\n",
      "INFO:tensorflow:loss = 8742307400000.0, step = 4101 (0.479 sec)\n",
      "INFO:tensorflow:global_step/sec: 217.247\n",
      "INFO:tensorflow:loss = 22470111000000.0, step = 4201 (0.460 sec)\n",
      "INFO:tensorflow:global_step/sec: 211.98\n",
      "INFO:tensorflow:loss = 2780030000000.0, step = 4301 (0.472 sec)\n",
      "INFO:tensorflow:global_step/sec: 215.327\n",
      "INFO:tensorflow:loss = 8765460000000.0, step = 4401 (0.465 sec)\n",
      "INFO:tensorflow:global_step/sec: 206.598\n",
      "INFO:tensorflow:loss = 6361442000000.0, step = 4501 (0.483 sec)\n",
      "INFO:tensorflow:global_step/sec: 232.096\n",
      "INFO:tensorflow:loss = 10420673000000.0, step = 4601 (0.431 sec)\n",
      "INFO:tensorflow:global_step/sec: 226.341\n",
      "INFO:tensorflow:loss = 10242809000000.0, step = 4701 (0.442 sec)\n",
      "INFO:tensorflow:global_step/sec: 233.663\n",
      "INFO:tensorflow:loss = 5887559700000.0, step = 4801 (0.428 sec)\n",
      "INFO:tensorflow:global_step/sec: 236.011\n",
      "INFO:tensorflow:loss = 9962539000000.0, step = 4901 (0.423 sec)\n",
      "INFO:tensorflow:global_step/sec: 235.639\n",
      "INFO:tensorflow:loss = 9039012000000.0, step = 5001 (0.424 sec)\n",
      "INFO:tensorflow:global_step/sec: 233.929\n",
      "INFO:tensorflow:loss = 14253020000000.0, step = 5101 (0.427 sec)\n",
      "INFO:tensorflow:global_step/sec: 231.663\n",
      "INFO:tensorflow:loss = 12170401000000.0, step = 5201 (0.432 sec)\n",
      "INFO:tensorflow:global_step/sec: 237.671\n",
      "INFO:tensorflow:loss = 16138482000000.0, step = 5301 (0.421 sec)\n",
      "INFO:tensorflow:global_step/sec: 233.377\n",
      "INFO:tensorflow:loss = 6448287300000.0, step = 5401 (0.429 sec)\n",
      "INFO:tensorflow:global_step/sec: 232.524\n",
      "INFO:tensorflow:loss = 12705537000000.0, step = 5501 (0.430 sec)\n",
      "INFO:tensorflow:global_step/sec: 235.806\n",
      "INFO:tensorflow:loss = 9379336000000.0, step = 5601 (0.424 sec)\n",
      "INFO:tensorflow:global_step/sec: 236.355\n",
      "INFO:tensorflow:loss = 7803911000000.0, step = 5701 (0.423 sec)\n",
      "INFO:tensorflow:global_step/sec: 236.177\n",
      "INFO:tensorflow:loss = 10369159000000.0, step = 5801 (0.424 sec)\n",
      "INFO:tensorflow:global_step/sec: 236.878\n",
      "INFO:tensorflow:loss = 9212877000000.0, step = 5901 (0.422 sec)\n",
      "INFO:tensorflow:global_step/sec: 235.142\n",
      "INFO:tensorflow:loss = 6178249600000.0, step = 6001 (0.425 sec)\n",
      "INFO:tensorflow:global_step/sec: 236.419\n",
      "INFO:tensorflow:loss = 5574458600000.0, step = 6101 (0.423 sec)\n",
      "INFO:tensorflow:global_step/sec: 232.27\n",
      "INFO:tensorflow:loss = 21191318000000.0, step = 6201 (0.431 sec)\n",
      "INFO:tensorflow:global_step/sec: 234.274\n",
      "INFO:tensorflow:loss = 6888337000000.0, step = 6301 (0.427 sec)\n",
      "INFO:tensorflow:global_step/sec: 234.723\n",
      "INFO:tensorflow:loss = 14987793000000.0, step = 6401 (0.426 sec)\n",
      "INFO:tensorflow:global_step/sec: 233.055\n",
      "INFO:tensorflow:loss = 6470403400000.0, step = 6501 (0.429 sec)\n",
      "INFO:tensorflow:global_step/sec: 236.728\n"
     ]
    },
    {
     "name": "stdout",
     "output_type": "stream",
     "text": [
      "INFO:tensorflow:loss = 11400645000000.0, step = 6601 (0.423 sec)\n",
      "INFO:tensorflow:global_step/sec: 235.337\n",
      "INFO:tensorflow:loss = 20380446000000.0, step = 6701 (0.425 sec)\n",
      "INFO:tensorflow:global_step/sec: 234.403\n",
      "INFO:tensorflow:loss = 21014760000000.0, step = 6801 (0.427 sec)\n",
      "INFO:tensorflow:global_step/sec: 231.819\n",
      "INFO:tensorflow:loss = 8053120000000.0, step = 6901 (0.431 sec)\n",
      "INFO:tensorflow:global_step/sec: 225.845\n",
      "INFO:tensorflow:loss = 6399002000000.0, step = 7001 (0.443 sec)\n",
      "INFO:tensorflow:global_step/sec: 229.688\n",
      "INFO:tensorflow:loss = 7134506400000.0, step = 7101 (0.436 sec)\n",
      "INFO:tensorflow:global_step/sec: 232.894\n",
      "INFO:tensorflow:loss = 7664192000000.0, step = 7201 (0.429 sec)\n",
      "INFO:tensorflow:global_step/sec: 224.61\n",
      "INFO:tensorflow:loss = 24670942000000.0, step = 7301 (0.445 sec)\n",
      "INFO:tensorflow:global_step/sec: 232.682\n",
      "INFO:tensorflow:loss = 10280726000000.0, step = 7401 (0.429 sec)\n",
      "INFO:tensorflow:global_step/sec: 238.297\n",
      "INFO:tensorflow:loss = 5281360000000.0, step = 7501 (0.420 sec)\n",
      "INFO:tensorflow:global_step/sec: 235.572\n",
      "INFO:tensorflow:loss = 7187380300000.0, step = 7601 (0.425 sec)\n",
      "INFO:tensorflow:global_step/sec: 236.141\n",
      "INFO:tensorflow:loss = 6522433000000.0, step = 7701 (0.423 sec)\n",
      "INFO:tensorflow:global_step/sec: 234.463\n",
      "INFO:tensorflow:loss = 7381974500000.0, step = 7801 (0.427 sec)\n",
      "INFO:tensorflow:global_step/sec: 239.198\n",
      "INFO:tensorflow:loss = 11452219000000.0, step = 7901 (0.418 sec)\n",
      "INFO:tensorflow:Saving checkpoints for 8000 into /var/folders/qk/0vhw5p4n2610vyrs2zqjmj2h0000gn/T/tmpRputqr/model.ckpt.\n",
      "INFO:tensorflow:Loss for final step: 18847267000000.0.\n"
     ]
    },
    {
     "data": {
      "text/plain": [
       "DNNRegressor(params={'head': <tensorflow.contrib.learn.python.learn.estimators.head._RegressionHead object at 0x11abfb8d0>, 'hidden_units': [20, 10], 'feature_columns': (_RealValuedColumn(column_name='', dimension=4, default_value=None, dtype=tf.float64, normalizer=None),), 'embedding_lr_multipliers': None, 'optimizer': <tensorflow.python.training.adam.AdamOptimizer object at 0x11abfb810>, 'dropout': None, 'gradient_clip_norm': None, 'activation_fn': <function relu at 0x10e9b46e0>, 'input_layer_min_slice_size': None})"
      ]
     },
     "execution_count": 49,
     "metadata": {},
     "output_type": "execute_result"
    }
   ],
   "source": [
    "from tensorflow.contrib import learn\n",
    "\n",
    "# Stacking multiple regressors using DNN\n",
    "features_blend = learn.infer_real_valued_columns_from_input(stack[['mlp','mlp2','mlpr','dnn']])\n",
    "\n",
    "# Optimizer algorithm\n",
    "adam = tf.train.AdamOptimizer(learning_rate=0.001)\n",
    "\n",
    "# Build multi-layer DNN for regression\n",
    "blend_nn = learn.DNNRegressor(feature_columns=features_blend, hidden_units=[20, 10], \n",
    "                              optimizer=adam, activation_fn=tf.nn.relu)\n",
    "#                               config=learn.estimators.RunConfig(num_cores=8))\n",
    "# Fit DNN\n",
    "blend_nn.fit(x=stack[['mlp','mlp2','mlpr','dnn']], y=stack['true'], steps=8000, batch_size=256)"
   ]
  },
  {
   "cell_type": "code",
   "execution_count": 50,
   "metadata": {
    "collapsed": true
   },
   "outputs": [],
   "source": [
    "### TO-DO -- leave the last 100 for this while doing the split\n",
    "\n",
    "\n",
    "# Pedict price for new apartments (not seen before)\n",
    "x_new = features_train[-100:]  # example\n",
    "# True values (actual prices)\n",
    "true_values = target_train[-100:]"
   ]
  },
  {
   "cell_type": "code",
   "execution_count": 51,
   "metadata": {},
   "outputs": [
    {
     "name": "stdout",
     "output_type": "stream",
     "text": [
      "WARNING:tensorflow:float64 is not supported by many models, consider casting to float32.\n",
      "INFO:tensorflow:Graph was finalized.\n",
      "INFO:tensorflow:Restoring parameters from /var/folders/qk/0vhw5p4n2610vyrs2zqjmj2h0000gn/T/tmpb0HVDu/model.ckpt-15000\n",
      "INFO:tensorflow:Running local_init_op.\n",
      "INFO:tensorflow:Done running local_init_op.\n"
     ]
    }
   ],
   "source": [
    "# PREDICT: MLP for Regression\n",
    "y_new_mlp = mlp_model.predict(x_new).flatten().tolist()\n",
    "\n",
    "# PREDICT: MLP2\n",
    "y_new_mlp2 = mlp_model2.predict(x_new).flatten().tolist()\n",
    "\n",
    "# PREDICT: MLPR for regression\n",
    "y_new_mlpr = mlpr.predict(x_new).flatten().tolist()\n",
    "\n",
    "\n",
    "\n",
    "# PREDICT: TensorFlow DNNRegressor\n",
    "# y_new_nn = np.around(model_nn.predict(x_new), decimals=2)\n",
    "y_new_dnn = list(model_nn.predict(x_new))"
   ]
  },
  {
   "cell_type": "code",
   "execution_count": 52,
   "metadata": {
    "collapsed": true
   },
   "outputs": [],
   "source": [
    "# Relative errors (%) for predictions \n",
    "\n",
    "mlp_error = (1.-y_new_mlp/true_values)*100.\n",
    "mlp2_error = (1.-y_new_mlp2/true_values)*100.\n",
    "mlpr_error = (1.-y_new_mlpr/true_values)*100.\n",
    "dnn_error = (1.-y_new_dnn/true_values)*100. "
   ]
  },
  {
   "cell_type": "code",
   "execution_count": 53,
   "metadata": {
    "collapsed": true
   },
   "outputs": [],
   "source": [
    "predictions = pd.DataFrame(data={'True Values':y_train[-100:], \n",
    "                                 'MLP':y_new_mlp, 'MLP Err':mlp_error,   # MLP\n",
    "                                 'MLP2':y_new_mlp2, 'MLP2 Err':mlp2_error,   # MLP2\n",
    "                                 'MLPR':y_new_mlpr, 'MLPR Err':mlpr_error,   # MLPR\n",
    "                                \n",
    "                                 'DNN':y_new_dnn, 'DNN Err':dnn_error})  # DNN - Deep Neural Network\n"
   ]
  },
  {
   "cell_type": "code",
   "execution_count": 54,
   "metadata": {},
   "outputs": [
    {
     "name": "stdout",
     "output_type": "stream",
     "text": [
      "MLP: RMSE = 14.0421\n",
      "MLP2: RMSE = 14.8311\n",
      "MLPR: RMSE = 15.2739\n",
      "DNN: RMSE = 14.7661\n"
     ]
    }
   ],
   "source": [
    "algos_predicted = predictions[['MLP', 'MLP2', 'MLPR', 'DNN']]\n",
    "for col in algos_predicted:\n",
    "    rms_log = metrics.mean_squared_error(np.log(predictions['True Values']), np.log(algos_predicted[col]))\n",
    "    print('{:s}: RMSE = {:g}'.format(col, np.sqrt(rms_log)))"
   ]
  },
  {
   "cell_type": "code",
   "execution_count": 55,
   "metadata": {
    "collapsed": true
   },
   "outputs": [],
   "source": [
    "new_stack = pd.DataFrame(data={'mlp':y_new_mlp, 'mlp2':y_new_mlp2, 'mlpr':y_new_mlpr, 'dnn':y_new_dnn, 'true':true_values})"
   ]
  },
  {
   "cell_type": "code",
   "execution_count": 56,
   "metadata": {},
   "outputs": [
    {
     "name": "stdout",
     "output_type": "stream",
     "text": [
      "WARNING:tensorflow:float64 is not supported by many models, consider casting to float32.\n",
      "INFO:tensorflow:Graph was finalized.\n",
      "INFO:tensorflow:Restoring parameters from /var/folders/qk/0vhw5p4n2610vyrs2zqjmj2h0000gn/T/tmpRputqr/model.ckpt-8000\n",
      "INFO:tensorflow:Running local_init_op.\n",
      "INFO:tensorflow:Done running local_init_op.\n"
     ]
    }
   ],
   "source": [
    "# PREDICT: Stacked regressors using DNN (Ensamble)\n",
    "y_new_bl = list(blend_nn.predict(new_stack[['mlp', 'mlp2', 'mlpr', 'dnn']]))\n",
    "bl_error = (1.-y_new_bl/true_values)*100."
   ]
  },
  {
   "cell_type": "code",
   "execution_count": 57,
   "metadata": {
    "collapsed": true
   },
   "outputs": [],
   "source": [
    "# Averageing best predictions from different regressors\n",
    "# MLP + MLP2 + MLPR + DNN\n",
    "w = [1, 1, 1, 1]  # weights\n",
    "y_new_agg = np.c_[y_new_mlp, y_new_mlp2, y_new_mlpr,y_new_dnn]\n",
    "y_new_avr = np.average(y_new_agg, axis=1, weights=w)\n",
    "avr_error = (1.-y_new_avr/true_values)*100."
   ]
  },
  {
   "cell_type": "code",
   "execution_count": 58,
   "metadata": {
    "collapsed": true
   },
   "outputs": [],
   "source": [
    "from collections import OrderedDict\n",
    "\n",
    "predictions = (('True Values',y_test[-100:]), \n",
    "               ('Average',y_new_avr), ('Average Err',avr_error),\n",
    "               ('Ensemble',y_new_bl), ('Ensemble Err',bl_error))\n",
    "preds_avr = pd.DataFrame(data=OrderedDict(predictions))"
   ]
  },
  {
   "cell_type": "code",
   "execution_count": 60,
   "metadata": {},
   "outputs": [
    {
     "name": "stdout",
     "output_type": "stream",
     "text": [
      "  Average: RMSE = 14.7998\n",
      " Ensemble: RMSE = 15.443\n"
     ]
    }
   ],
   "source": [
    "# Root Mean Square Error (RMSE) between the logarithm of the  \n",
    "# predicted value and the logarithm of the observed sales price\n",
    "rms_log = metrics.mean_squared_error(np.log(preds_avr['True Values']), np.log(preds_avr['Average']))\n",
    "print('  Average: RMSE = {:g}'.format(np.sqrt(rms_log)))\n",
    "\n",
    "rms_log = metrics.mean_squared_error(np.log(preds_avr['True Values']), np.log(preds_avr['Ensemble']))\n",
    "print(' Ensemble: RMSE = {:g}'.format(np.sqrt(rms_log)))"
   ]
  }
 ],
 "metadata": {
  "kernelspec": {
   "display_name": "Python 3",
   "language": "python",
   "name": "python3"
  },
  "language_info": {
   "codemirror_mode": {
    "name": "ipython",
    "version": 3
   },
   "file_extension": ".py",
   "mimetype": "text/x-python",
   "name": "python",
   "nbconvert_exporter": "python",
   "pygments_lexer": "ipython3",
   "version": "3.6.5"
  }
 },
 "nbformat": 4,
 "nbformat_minor": 2
}
